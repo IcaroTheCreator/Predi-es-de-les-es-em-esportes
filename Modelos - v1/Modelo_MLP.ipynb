{
  "cells": [
    {
      "cell_type": "markdown",
      "metadata": {
        "id": "view-in-github",
        "colab_type": "text"
      },
      "source": [
        "<a href=\"https://colab.research.google.com/github/IcaroTheCreator/Predicoes-de-lesoes-em-esportes/blob/Icaro/Modelos%20-%20v1/Modelo_MLP.ipynb\" target=\"_parent\"><img src=\"https://colab.research.google.com/assets/colab-badge.svg\" alt=\"Open In Colab\"/></a>"
      ]
    },
    {
      "cell_type": "code",
      "execution_count": null,
      "metadata": {
        "colab": {
          "background_save": true,
          "base_uri": "https://localhost:8080/"
        },
        "id": "lvlEZSogYYXT",
        "outputId": "acb7e6b3-8c55-4e13-991f-4472198b5bb0"
      },
      "outputs": [
        {
          "name": "stdout",
          "output_type": "stream",
          "text": [
            "Collecting mglearn\n",
            "  Downloading mglearn-0.2.0-py2.py3-none-any.whl (581 kB)\n",
            "\u001b[?25l     \u001b[90m━━━━━━━━━━━━━━━━━━━━━━━━━━━━━━━━━━━━━━━━\u001b[0m \u001b[32m0.0/581.4 kB\u001b[0m \u001b[31m?\u001b[0m eta \u001b[36m-:--:--\u001b[0m\r\u001b[2K     \u001b[91m━━━━━━━━\u001b[0m\u001b[90m╺\u001b[0m\u001b[90m━━━━━━━━━━━━━━━━━━━━━━━━━━━━━━━\u001b[0m \u001b[32m122.9/581.4 kB\u001b[0m \u001b[31m3.4 MB/s\u001b[0m eta \u001b[36m0:00:01\u001b[0m\r\u001b[2K     \u001b[91m━━━━━━━━━━━━━━━━━━━━━━━━━━━━━━━━━━━━━━━\u001b[0m\u001b[90m╺\u001b[0m \u001b[32m573.4/581.4 kB\u001b[0m \u001b[31m9.4 MB/s\u001b[0m eta \u001b[36m0:00:01\u001b[0m\r\u001b[2K     \u001b[90m━━━━━━━━━━━━━━━━━━━━━━━━━━━━━━━━━━━━━━━━\u001b[0m \u001b[32m581.4/581.4 kB\u001b[0m \u001b[31m8.0 MB/s\u001b[0m eta \u001b[36m0:00:00\u001b[0m\n",
            "\u001b[?25hRequirement already satisfied: numpy in /usr/local/lib/python3.10/dist-packages (from mglearn) (1.25.2)\n",
            "Requirement already satisfied: matplotlib in /usr/local/lib/python3.10/dist-packages (from mglearn) (3.7.1)\n",
            "Requirement already satisfied: scikit-learn in /usr/local/lib/python3.10/dist-packages (from mglearn) (1.2.2)\n",
            "Requirement already satisfied: pandas in /usr/local/lib/python3.10/dist-packages (from mglearn) (1.5.3)\n",
            "Requirement already satisfied: pillow in /usr/local/lib/python3.10/dist-packages (from mglearn) (9.4.0)\n",
            "Requirement already satisfied: cycler in /usr/local/lib/python3.10/dist-packages (from mglearn) (0.12.1)\n",
            "Requirement already satisfied: imageio in /usr/local/lib/python3.10/dist-packages (from mglearn) (2.31.6)\n",
            "Requirement already satisfied: joblib in /usr/local/lib/python3.10/dist-packages (from mglearn) (1.3.2)\n",
            "Requirement already satisfied: contourpy>=1.0.1 in /usr/local/lib/python3.10/dist-packages (from matplotlib->mglearn) (1.2.0)\n",
            "Requirement already satisfied: fonttools>=4.22.0 in /usr/local/lib/python3.10/dist-packages (from matplotlib->mglearn) (4.49.0)\n",
            "Requirement already satisfied: kiwisolver>=1.0.1 in /usr/local/lib/python3.10/dist-packages (from matplotlib->mglearn) (1.4.5)\n",
            "Requirement already satisfied: packaging>=20.0 in /usr/local/lib/python3.10/dist-packages (from matplotlib->mglearn) (23.2)\n",
            "Requirement already satisfied: pyparsing>=2.3.1 in /usr/local/lib/python3.10/dist-packages (from matplotlib->mglearn) (3.1.1)\n",
            "Requirement already satisfied: python-dateutil>=2.7 in /usr/local/lib/python3.10/dist-packages (from matplotlib->mglearn) (2.8.2)\n",
            "Requirement already satisfied: pytz>=2020.1 in /usr/local/lib/python3.10/dist-packages (from pandas->mglearn) (2023.4)\n",
            "Requirement already satisfied: scipy>=1.3.2 in /usr/local/lib/python3.10/dist-packages (from scikit-learn->mglearn) (1.11.4)\n",
            "Requirement already satisfied: threadpoolctl>=2.0.0 in /usr/local/lib/python3.10/dist-packages (from scikit-learn->mglearn) (3.3.0)\n",
            "Requirement already satisfied: six>=1.5 in /usr/local/lib/python3.10/dist-packages (from python-dateutil>=2.7->matplotlib->mglearn) (1.16.0)\n",
            "Installing collected packages: mglearn\n",
            "Successfully installed mglearn-0.2.0\n"
          ]
        }
      ],
      "source": [
        "#Importando as bibliotecas necessárias para processamento de dados, plotagem gráfica e treinamento dos modelos\n",
        "\n",
        "import numpy as np\n",
        "import pandas as pd #processamento de dados, para abrir o dataset (arquivo .csv)\n",
        "import itertools\n",
        "import seaborn as sns\n",
        "from sklearn.model_selection import train_test_split\n",
        "!pip install mglearn\n",
        "\n",
        "from google.colab import drive #para conectar o google drive ao notebook e trazer os datasets para cá\n",
        "drive.mount('/content/drive') #diretório onde o drive vai ser instaurado\n",
        "\n",
        "'''#from google.colab import files''' #função import para justamente fazer o upload dos arquivos do drive\n",
        "'''uploaded = files.upload()''' #para caso de upload\n",
        "\n",
        "# para caso de usar imagens\n",
        "import PIL\n",
        "from PIL import Image\n",
        "\n",
        "# para plotagem de gráficos\n",
        "import matplotlib.pyplot as plt #biblioteca mais comum para plotar as imagens\n",
        "import seaborn as sns\n",
        "import scipy.stats as ss\n",
        "\n",
        "# bibliotecas e modelos para o treinamento dos modelos\n",
        "from sklearn.model_selection import StratifiedKFold #função da biblioteca sklearn para dividir os sets de maneira estratificada\n",
        "from sklearn.model_selection import train_test_split #função da biblioteca sklearn para dividir os sets de maneira padrão\n",
        "from imblearn.over_sampling import RandomOverSampler, SMOTE #funções para over sampling (aumentar quantidade de ex da classe minoritária (lesão))\n",
        "import xgboost as xgb #um dos modelos de ML\n",
        "from sklearn.metrics import accuracy_score, confusion_matrix, cohen_kappa_score #funções que irão avaliar os modelos por meio de scores\n",
        "from sklearn.metrics import (ConfusionMatrixDisplay, f1_score, classification_report) #mais funções para avaliação do modelo\n",
        "from sklearn.tree import export_graphviz #função para imprimir a árvore de decisão\n",
        "import graphviz"
      ]
    },
    {
      "cell_type": "code",
      "execution_count": null,
      "metadata": {
        "id": "wFwVg72yf-9P"
      },
      "outputs": [],
      "source": [
        "play_df = pd.read_csv('/content/drive/My Drive/Datasets/PlayList.csv')\n",
        "#player_df = pd.read_csv('/content/drive/My Drive/Datasets/PlayerTrackData.csv')\n",
        "#este último dataset foi descartado pois ele pesa 3.7 GB e estoura a memória RAM gratuita do Colab e também seus dados não afetam o treinamento de nossos modelos\n",
        "injury_df = pd.read_csv('/content/drive/My Drive/Datasets/InjuryRecord.csv')"
      ]
    },
    {
      "cell_type": "code",
      "execution_count": null,
      "metadata": {
        "id": "0gRgKAu4gsnn"
      },
      "outputs": [],
      "source": [
        "# Criar um DataFrame com informações a nível de jogo.\n",
        "game_df = play_df[['GameID', 'StadiumType', 'FieldType', 'Weather', 'Temperature']].drop_duplicates().reset_index().drop(columns=['index'])"
      ]
    },
    {
      "cell_type": "code",
      "execution_count": null,
      "metadata": {
        "id": "kKrvm8oXhGzb"
      },
      "outputs": [],
      "source": [
        "def clean_weather(row):\n",
        "    cloudy = ['Cloudy 50% change of rain', 'Hazy', 'Cloudy.', 'Overcast', 'Mostly Cloudy',\n",
        "          'Cloudy, fog started developing in 2nd quarter', 'Partly Cloudy',\n",
        "          'Mostly cloudy', 'Rain Chance 40%',' Partly cloudy', 'Party Cloudy',\n",
        "          'Rain likely, temps in low 40s', 'Partly Clouidy', 'Cloudy, 50% change of rain','Mostly Coudy', '10% Chance of Rain',\n",
        "          'Cloudy, chance of rain', '30% Chance of Rain', 'Cloudy, light snow accumulating 1-3\"',\n",
        "          'cloudy', 'Coudy', 'Cloudy with periods of rain, thunder possible. Winds shifting to WNW, 10-20 mph.',\n",
        "         'Cloudy fog started developing in 2nd quarter', 'Cloudy light snow accumulating 1-3\"',\n",
        "         'Cloudywith periods of rain, thunder possible. Winds shifting to WNW, 10-20 mph.',\n",
        "         'Cloudy 50% change of rain', 'Cloudy and cold',\n",
        "       'Cloudy and Cool', 'Partly cloudy']\n",
        "\n",
        "    clear = ['Clear, Windy',' Clear to Cloudy', 'Clear, highs to upper 80s',\n",
        "             'Clear and clear','Partly sunny',\n",
        "             'Clear, Windy', 'Clear skies', 'Sunny', 'Partly Sunny', 'Mostly Sunny', 'Clear Skies',\n",
        "             'Sunny Skies', 'Partly clear', 'Fair', 'Sunny, highs to upper 80s', 'Sun & clouds', 'Mostly sunny','Sunny, Windy',\n",
        "             'Mostly Sunny Skies', 'Clear and Sunny', 'Clear and sunny','Clear to Partly Cloudy', 'Clear Skies',\n",
        "            'Clear and cold', 'Clear and warm', 'Clear and Cool', 'Sunny and cold', 'Sunny and warm', 'Sunny and clear']\n",
        "\n",
        "    rainy = ['Rainy', 'Scattered Showers', 'Showers', 'Cloudy Rain', 'Light Rain', 'Rain shower', 'Rain likely, temps in low 40s.', 'Cloudy, Rain']\n",
        "\n",
        "    snow = ['Heavy lake effect snow']\n",
        "\n",
        "    indoor = ['Controlled Climate', 'Indoors', 'N/A Indoor', 'N/A (Indoors)']\n",
        "\n",
        "    if row.Weather in cloudy:\n",
        "        return 'Cloudy'\n",
        "\n",
        "    if row.Weather in indoor:\n",
        "        return 'Indoor'\n",
        "\n",
        "    if row.Weather in clear:\n",
        "        return 'Clear'\n",
        "\n",
        "    if row.Weather in rainy:\n",
        "        return 'Rain'\n",
        "\n",
        "    if row.Weather in snow:\n",
        "        return 'Snow'\n",
        "\n",
        "    if row.Weather in ['Cloudy.', 'Heat Index 95', 'Cold']:\n",
        "        return np.nan\n",
        "\n",
        "    return row.Weather\n",
        "\n",
        "def clean_stadiumtype(row):\n",
        "    if row.StadiumType in ['Bowl', 'Heinz Field', 'Cloudy']:\n",
        "        return np.nan\n",
        "    else:\n",
        "        return row.StadiumType\n",
        "\n",
        "def clean_play_df(play_df):\n",
        "    play_df_cleaned = play_df.copy()\n",
        "\n",
        "    # Realiza uma limpeza na variável 'StadiumType'\n",
        "    play_df_cleaned['StadiumType'] = play_df_cleaned['StadiumType'].str.replace(r'Oudoor|Outdoors|Ourdoor|Outddors|Outdor|Outside', 'Outdoor')\n",
        "    play_df_cleaned['StadiumType'] = play_df_cleaned['StadiumType'].str.replace(r'Indoors|Indoor, Roof Closed|Indoor, Open Roof', 'Indoor')\n",
        "    play_df_cleaned['StadiumType'] = play_df_cleaned['StadiumType'].str.replace(r'Closed Dome|Domed, closed|Domed, Open|Domed, open|Dome, closed|Domed', 'Dome')\n",
        "    play_df_cleaned['StadiumType'] = play_df_cleaned['StadiumType'].str.replace(r'Retr. Roof-Closed|Outdoor Retr Roof-Open|Retr. Roof - Closed|Retr. Roof-Open|Retr. Roof - Open|Retr. Roof Closed', 'Retractable Roof')\n",
        "    play_df_cleaned['StadiumType'] = play_df_cleaned['StadiumType'].str.replace('Open', 'Outdoor')\n",
        "    play_df_cleaned['StadiumType'] = play_df_cleaned.apply(lambda row: clean_stadiumtype(row), axis=1)\n",
        "\n",
        "    # Realiza uma limpeza na variável 'Weather'\n",
        "    play_df_cleaned['Weather'] = play_df_cleaned.apply(lambda row: clean_weather(row), axis=1)\n",
        "\n",
        "    return play_df_cleaned"
      ]
    },
    {
      "cell_type": "code",
      "execution_count": null,
      "metadata": {
        "colab": {
          "base_uri": "https://localhost:8080/"
        },
        "id": "T4h_x7ZqjFYO",
        "outputId": "9acae1de-c220-42e3-c8db-f75be5e9190f"
      },
      "outputs": [
        {
          "name": "stderr",
          "output_type": "stream",
          "text": [
            "<ipython-input-5-e39945693612>:56: FutureWarning: The default value of regex will change from True to False in a future version.\n",
            "  play_df_cleaned['StadiumType'] = play_df_cleaned['StadiumType'].str.replace(r'Oudoor|Outdoors|Ourdoor|Outddors|Outdor|Outside', 'Outdoor')\n",
            "<ipython-input-5-e39945693612>:57: FutureWarning: The default value of regex will change from True to False in a future version.\n",
            "  play_df_cleaned['StadiumType'] = play_df_cleaned['StadiumType'].str.replace(r'Indoors|Indoor, Roof Closed|Indoor, Open Roof', 'Indoor')\n",
            "<ipython-input-5-e39945693612>:58: FutureWarning: The default value of regex will change from True to False in a future version.\n",
            "  play_df_cleaned['StadiumType'] = play_df_cleaned['StadiumType'].str.replace(r'Closed Dome|Domed, closed|Domed, Open|Domed, open|Dome, closed|Domed', 'Dome')\n",
            "<ipython-input-5-e39945693612>:59: FutureWarning: The default value of regex will change from True to False in a future version.\n",
            "  play_df_cleaned['StadiumType'] = play_df_cleaned['StadiumType'].str.replace(r'Retr. Roof-Closed|Outdoor Retr Roof-Open|Retr. Roof - Closed|Retr. Roof-Open|Retr. Roof - Open|Retr. Roof Closed', 'Retractable Roof')\n"
          ]
        }
      ],
      "source": [
        "#Cria o dataframe de jogadas com dados já limpos\n",
        "play_df_cleaned = clean_play_df(play_df)\n",
        "game_df_cleaned = play_df_cleaned[['GameID', 'StadiumType', 'FieldType', 'Weather', 'Temperature']].drop_duplicates().reset_index().drop(columns=['index'])"
      ]
    },
    {
      "cell_type": "code",
      "execution_count": null,
      "metadata": {
        "id": "XH5CDl5ljMYO"
      },
      "outputs": [],
      "source": [
        "# Começa as modificações no dataframe\n",
        "play_injury_df = injury_df.dropna(subset=['PlayKey']).set_index('PlayKey').join(play_df_cleaned.set_index('PlayKey'), how = 'outer', lsuffix='_left', rsuffix='_right')\n",
        "\n",
        "# Preenche as colunas vazias com zeros\n",
        "play_injury_df['DM_M1'] = play_injury_df['DM_M1'].fillna(0).astype(int)\n",
        "play_injury_df['DM_M7'] = play_injury_df['DM_M7'].fillna(0).astype(int)\n",
        "play_injury_df['DM_M28'] = play_injury_df['DM_M28'].fillna(0).astype(int)\n",
        "play_injury_df['DM_M42'] = play_injury_df['DM_M42'].fillna(0).astype(int)\n",
        "\n",
        "# Coloca um sinal de lesão nas colunas que ocorrem as lesões\n",
        "play_injury_df.DM_M1 = play_injury_df.DM_M1 - play_injury_df.DM_M7\n",
        "play_injury_df.DM_M7 = play_injury_df.DM_M7 - play_injury_df.DM_M28\n",
        "play_injury_df.DM_M28 = play_injury_df.DM_M28 - play_injury_df.DM_M42\n",
        "\n",
        "play_injury_df['Injury'] = play_injury_df['DM_M1'] + play_injury_df['DM_M7'] + play_injury_df['DM_M28']+ play_injury_df['DM_M42']\n",
        "\n",
        "# Dispensa as colunas duplicadas da variável 'Surface'\n",
        "play_injury_df = play_injury_df.drop(columns=['Surface'])\n",
        "\n",
        "# Cria variáveis dummy\n",
        "play_injury_df_dummies = pd.get_dummies(play_injury_df, columns = ['PlayType', 'PositionGroup'], dummy_na = True, drop_first = True)"
      ]
    },
    {
      "cell_type": "code",
      "execution_count": null,
      "metadata": {
        "id": "rlMcGrUA5GdL"
      },
      "outputs": [],
      "source": [
        "def visualize_play(play_df_cleaned):\n",
        "    plt.style.use('ggplot')\n",
        "    fig, ax = plt.subplots(1,1,figsize=(15,5))\n",
        "\n",
        "    plt.bar(play_df_cleaned.PlayType.value_counts().keys().values, play_df_cleaned.PlayType.value_counts().values)\n",
        "    plt.xticks(range(len(play_df_cleaned.PlayType.value_counts().keys().values)), play_df_cleaned.PlayType.value_counts().keys().values, rotation=20)\n",
        "    add_value_labels(ax, spacing=5)\n",
        "    plt.title('Play-Level Exploration: PlayType', fontsize=16)\n",
        "\n",
        "    plt.show()\n",
        "\n",
        "#plotando as situações de cada jogada"
      ]
    },
    {
      "cell_type": "code",
      "execution_count": null,
      "metadata": {
        "colab": {
          "base_uri": "https://localhost:8080/"
        },
        "id": "7mHVA3PX50ZV",
        "outputId": "0eba2ed5-0c06-4220-e913-120bf0f4c9b8"
      },
      "outputs": [
        {
          "name": "stderr",
          "output_type": "stream",
          "text": [
            "<ipython-input-5-e39945693612>:56: FutureWarning: The default value of regex will change from True to False in a future version.\n",
            "  play_df_cleaned['StadiumType'] = play_df_cleaned['StadiumType'].str.replace(r'Oudoor|Outdoors|Ourdoor|Outddors|Outdor|Outside', 'Outdoor')\n",
            "<ipython-input-5-e39945693612>:57: FutureWarning: The default value of regex will change from True to False in a future version.\n",
            "  play_df_cleaned['StadiumType'] = play_df_cleaned['StadiumType'].str.replace(r'Indoors|Indoor, Roof Closed|Indoor, Open Roof', 'Indoor')\n",
            "<ipython-input-5-e39945693612>:58: FutureWarning: The default value of regex will change from True to False in a future version.\n",
            "  play_df_cleaned['StadiumType'] = play_df_cleaned['StadiumType'].str.replace(r'Closed Dome|Domed, closed|Domed, Open|Domed, open|Dome, closed|Domed', 'Dome')\n",
            "<ipython-input-5-e39945693612>:59: FutureWarning: The default value of regex will change from True to False in a future version.\n",
            "  play_df_cleaned['StadiumType'] = play_df_cleaned['StadiumType'].str.replace(r'Retr. Roof-Closed|Outdoor Retr Roof-Open|Retr. Roof - Closed|Retr. Roof-Open|Retr. Roof - Open|Retr. Roof Closed', 'Retractable Roof')\n"
          ]
        }
      ],
      "source": [
        "#Criando o dataframe com os dados das jogadas já limpos\n",
        "play_df_cleaned = clean_play_df(play_df)\n",
        "game_df_cleaned = play_df_cleaned[['GameID', 'StadiumType', 'FieldType', 'Weather', 'Temperature']].drop_duplicates().reset_index().drop(columns=['index'])"
      ]
    },
    {
      "cell_type": "code",
      "execution_count": null,
      "metadata": {
        "id": "WUsolChIT3Tl"
      },
      "outputs": [],
      "source": [
        "# Juntou o conjunto de dados de jogos limpo com o conjunto de dados de lesões.\n",
        "game_injury_df = injury_df.set_index('GameID').join(game_df_cleaned.set_index('GameID'), how = 'outer')\n",
        "\n",
        "# Preenche os valores nulos nas colunas de lesões com zeros.\n",
        "game_injury_df['DM_M1'] = game_injury_df['DM_M1'].fillna(0).astype(int)\n",
        "game_injury_df['DM_M7'] = game_injury_df['DM_M7'].fillna(0).astype(int)\n",
        "game_injury_df['DM_M28'] = game_injury_df['DM_M28'].fillna(0).astype(int)\n",
        "game_injury_df['DM_M42'] = game_injury_df['DM_M42'].fillna(0).astype(int)\n",
        "\n",
        "game_injury_df.DM_M1 = game_injury_df.DM_M1 - game_injury_df.DM_M7\n",
        "game_injury_df.DM_M7 = game_injury_df.DM_M7 - game_injury_df.DM_M28\n",
        "game_injury_df.DM_M28 = game_injury_df.DM_M28 - game_injury_df.DM_M42\n",
        "\n",
        "# Introduz uma coluna com uma flag indicando uma lesão.\n",
        "game_injury_df['Injury'] = game_injury_df['DM_M1'] + game_injury_df['DM_M7'] + game_injury_df['DM_M28'] + game_injury_df['DM_M42']\n",
        "\n",
        "# Remove a coluna de superfície duplicada.\n",
        "game_injury_df = game_injury_df.drop(columns=['Surface'])\n",
        "\n",
        "# Remove as características do nível de jogada por enquanto.\n",
        "game_injury_df = game_injury_df.drop(columns=['PlayerKey', 'PlayKey'])\n",
        "\n",
        "# Cria variáveis dummy\n",
        "game_injury_df_dummies = pd.get_dummies(game_injury_df, dummy_na = True, drop_first = True).drop(columns=['FieldType_nan'])"
      ]
    },
    {
      "cell_type": "code",
      "execution_count": null,
      "metadata": {
        "id": "lFMhZJzY-z4Z"
      },
      "outputs": [],
      "source": [
        "# reinicia o índice\n",
        "features_df = play_injury_df.copy().reset_index()\n",
        "# descarta as colunas irrelevantes\n",
        "features_df = features_df.drop(columns=['PlayerKey_left','GameID_left','BodyPart', 'PlayKey', 'PlayerKey_right', 'GameID_right', 'DM_M1', 'DM_M7', 'DM_M28', 'DM_M42', 'RosterPosition'])\n",
        "# as transforma em váriáveis dummy\n",
        "features_df = pd.get_dummies(features_df, dummy_na = False, drop_first = True)"
      ]
    },
    {
      "cell_type": "code",
      "execution_count": null,
      "metadata": {
        "id": "yrtyXYWB_n1i"
      },
      "outputs": [],
      "source": [
        "#aqui que muda, haverá um segundo descarte de features, com base na filtragem de feature_importance menor que 0.01\n",
        "features_df = features_df.drop(columns=['PositionGroup_LB'])\n",
        "#features_df = features_df.drop(columns=['RosterPosition_Linebacker'])\n",
        "features_df = features_df.drop(columns=['PositionGroup_Missing Data'])\n",
        "features_df = features_df.drop(columns=['PositionGroup_QB'])\n",
        "features_df = features_df.drop(columns=['Position_WR'])\n",
        "features_df = features_df.drop(columns=['Position_RB'])\n",
        "features_df = features_df.drop(columns=['Position_TE'])\n",
        "features_df = features_df.drop(columns=['PositionGroup_RB'])\n",
        "features_df = features_df.drop(columns=['PositionGroup_SPEC'])\n",
        "features_df = features_df.drop(columns=['PositionGroup_TE'])\n",
        "features_df = features_df.drop(columns=['Position_S'])\n",
        "features_df = features_df.drop(columns=['Position_ILB'])\n",
        "features_df = features_df.drop(columns=['Position_QB'])\n",
        "features_df = features_df.drop(columns=['Position_P'])\n",
        "features_df = features_df.drop(columns=['Position_NT'])\n",
        "features_df = features_df.drop(columns=['Position_Missing Data'])\n",
        "features_df = features_df.drop(columns=['Position_LB'])\n",
        "features_df = features_df.drop(columns=['Position_K'])\n",
        "features_df = features_df.drop(columns=['Position_HB'])\n",
        "#features_df = features_df.drop(columns=['RosterPosition_Kicker'])\n",
        "features_df = features_df.drop(columns=['Position_DE'])\n",
        "features_df = features_df.drop(columns=['Position_DB'])\n",
        "features_df = features_df.drop(columns=['PlayType_Punt Not Returned'])\n",
        "features_df = features_df.drop(columns=['PlayType_Kickoff Returned'])\n",
        "features_df = features_df.drop(columns=['Weather_Snow'])\n",
        "features_df = features_df.drop(columns=['PositionGroup_WR'])\n",
        "features_df = features_df.drop(columns=['Position_FS'])\n"
      ]
    },
    {
      "cell_type": "code",
      "source": [
        "#separando o features_df em 2 datasets, um com injury igual a 0 e o outro com injury igual a 1_\n",
        "features_df0 = features_df[features_df['Injury'] < 1]\n",
        "features_df1 = features_df[features_df['Injury'] >= 1]"
      ],
      "metadata": {
        "id": "iVzri9UJih6u"
      },
      "execution_count": null,
      "outputs": []
    },
    {
      "cell_type": "code",
      "source": [
        "#agora, dividindo o features_df0 em 2 partes, um com 223 amostras para treino e outro com 266706 amostras para testes\n",
        "features_df0_treino = features_df0.iloc[:223, :]\n",
        "features_df0_teste = features_df0.iloc[223:, :]\n",
        "print(\"Shape of new dataframes - {} , {}\".format(features_df0_treino.shape, features_df0_teste.shape))"
      ],
      "metadata": {
        "id": "cj2KkpVeil4Z"
      },
      "execution_count": null,
      "outputs": []
    },
    {
      "cell_type": "code",
      "source": [
        "#juntando o dataset de injury = 1 com as 223 amostras de treino\n",
        "frames = [features_df1, features_df0_treino]\n",
        "new_treino_df = pd.concat(frames)\n",
        "new_treino_df.reset_index(inplace=True)\n",
        "new_treino_df = new_treino_df.drop(columns=['index'])"
      ],
      "metadata": {
        "id": "tFcWEgp6irai"
      },
      "execution_count": null,
      "outputs": []
    },
    {
      "cell_type": "code",
      "source": [
        "#juntando o dataset de injury = 1 com as 266706 amostras de teste\n",
        "frames2 = [features_df1, features_df0_teste]\n",
        "new_teste_df = pd.concat(frames2)\n",
        "new_teste_df.reset_index(inplace=True)\n",
        "new_teste_df = new_teste_df.drop(columns=['index'])"
      ],
      "metadata": {
        "id": "o0WitkQ1iurt"
      },
      "execution_count": null,
      "outputs": []
    },
    {
      "cell_type": "code",
      "execution_count": null,
      "metadata": {
        "id": "gj_ksozQ_sMj"
      },
      "outputs": [],
      "source": [
        "#separa em features e targets (treino)\n",
        "y = features_df['Injury']\n",
        "X = features_df.drop(columns=['Injury'])"
      ]
    },
    {
      "cell_type": "code",
      "source": [
        "#separa em features e targets (teste)\n",
        "y_2 = new_teste_df['Injury']\n",
        "X_2 = new_teste_df.drop(columns=['Injury'])"
      ],
      "metadata": {
        "id": "Z5S6hsNpjpak"
      },
      "execution_count": null,
      "outputs": []
    },
    {
      "cell_type": "code",
      "execution_count": null,
      "metadata": {
        "id": "aVZ9-XlL_s32"
      },
      "outputs": [],
      "source": [
        "skf = StratifiedKFold(n_splits=2)\n",
        "#usa separação estratificada para treinar o conjunto de treino para distribuir igualmente os rótulos em todas as classes\n",
        "for train_index, train_index in skf.split(X, y):\n",
        "    X_train = X.values[train_index, :]\n",
        "    y_train = y[train_index]"
      ]
    },
    {
      "cell_type": "code",
      "source": [
        "skf = StratifiedKFold(n_splits=2)\n",
        "#usa separação estratificada para dividir os conjuntos de testes para distribuir igualmente os rótulos em todas as classes\n",
        "for test_index, test_index in skf.split(X_2, y_2):\n",
        "    X_teste = X_2.values[test_index, :]\n",
        "    y_teste = y_2[test_index]"
      ],
      "metadata": {
        "id": "rk-n-oSPj8go"
      },
      "execution_count": null,
      "outputs": []
    },
    {
      "cell_type": "code",
      "execution_count": null,
      "metadata": {
        "id": "enU_x2Lx_vtx"
      },
      "outputs": [],
      "source": [
        "'''res = RandomOverSampler(random_state=0)\n",
        "X_resampled, y_resampled = res.fit_resample(X_train, y_train)\n",
        "X_teste, y_teste = res.fit_resample(X_test, y_test)'''\n",
        "#com um número ínfimo de lesões, é preciso rearranjar o dataset para a predição não resultar sempre em não lesão"
      ]
    },
    {
      "cell_type": "code",
      "execution_count": null,
      "metadata": {
        "colab": {
          "base_uri": "https://localhost:8080/"
        },
        "id": "0lUneR20r5-G",
        "outputId": "c9b15fcb-77d3-4304-aa24-9435279fa434"
      },
      "outputs": [
        {
          "name": "stdout",
          "output_type": "stream",
          "text": [
            "Accuracy on training set: 0.997\n",
            "Accuracy on test set: 0.494\n"
          ]
        }
      ],
      "source": [
        "from sklearn.neural_network import MLPClassifier\n",
        "\n",
        "mlp = MLPClassifier(solver = 'adam', max_iter = 100000, random_state=42).fit(X_resampled, y_resampled)\n",
        "print(\"Accuracy on training set: {:.3f}\".format(mlp.score(X_resampled, y_resampled)))\n",
        "print(\"Accuracy on test set: {:.3f}\".format(mlp.score(X_teste, y_teste)))"
      ]
    },
    {
      "cell_type": "code",
      "source": [
        "model = RandomForestClassifier()\n",
        "model.fit(X_train, y_train)\n",
        "y_pred = model.predict(X_teste)\n",
        "\n",
        "\n",
        "labels = [\"(Não Lesão)\", \"(Lesão)\"]\n",
        "cm = confusion_matrix(y_teste, y_pred)\n",
        "disp = ConfusionMatrixDisplay(confusion_matrix=cm, display_labels=labels)\n",
        "disp.plot();"
      ],
      "metadata": {
        "id": "Bw8cJoTakNRl"
      },
      "execution_count": null,
      "outputs": []
    },
    {
      "cell_type": "code",
      "execution_count": null,
      "metadata": {
        "colab": {
          "base_uri": "https://localhost:8080/",
          "height": 1000
        },
        "id": "ffe6M8BwGMer",
        "outputId": "ca70cd49-9cfb-4db6-a659-09d82adeb6c7"
      },
      "outputs": [
        {
          "ename": "ValueError",
          "evalue": "X has 2 features, but MLPClassifier is expecting 28 features as input.",
          "output_type": "error",
          "traceback": [
            "\u001b[0;31m---------------------------------------------------------------------------\u001b[0m",
            "\u001b[0;31mAttributeError\u001b[0m                            Traceback (most recent call last)",
            "\u001b[0;32m/usr/local/lib/python3.10/dist-packages/mglearn/plot_2d_separator.py\u001b[0m in \u001b[0;36mplot_2d_separator\u001b[0;34m(classifier, X, fill, ax, eps, alpha, cm, linewidth, threshold, linestyle)\u001b[0m\n\u001b[1;32m     85\u001b[0m     \u001b[0;32mtry\u001b[0m\u001b[0;34m:\u001b[0m\u001b[0;34m\u001b[0m\u001b[0;34m\u001b[0m\u001b[0m\n\u001b[0;32m---> 86\u001b[0;31m         \u001b[0mdecision_values\u001b[0m \u001b[0;34m=\u001b[0m \u001b[0mclassifier\u001b[0m\u001b[0;34m.\u001b[0m\u001b[0mdecision_function\u001b[0m\u001b[0;34m(\u001b[0m\u001b[0mX_grid\u001b[0m\u001b[0;34m)\u001b[0m\u001b[0;34m\u001b[0m\u001b[0;34m\u001b[0m\u001b[0m\n\u001b[0m\u001b[1;32m     87\u001b[0m         \u001b[0mlevels\u001b[0m \u001b[0;34m=\u001b[0m \u001b[0;34m[\u001b[0m\u001b[0;36m0\u001b[0m\u001b[0;34m]\u001b[0m \u001b[0;32mif\u001b[0m \u001b[0mthreshold\u001b[0m \u001b[0;32mis\u001b[0m \u001b[0;32mNone\u001b[0m \u001b[0;32melse\u001b[0m \u001b[0;34m[\u001b[0m\u001b[0mthreshold\u001b[0m\u001b[0;34m]\u001b[0m\u001b[0;34m\u001b[0m\u001b[0;34m\u001b[0m\u001b[0m\n",
            "\u001b[0;31mAttributeError\u001b[0m: 'MLPClassifier' object has no attribute 'decision_function'",
            "\nDuring handling of the above exception, another exception occurred:\n",
            "\u001b[0;31mValueError\u001b[0m                                Traceback (most recent call last)",
            "\u001b[0;32m<ipython-input-21-b15cd7b0f71c>\u001b[0m in \u001b[0;36m<cell line: 4>\u001b[0;34m()\u001b[0m\n\u001b[1;32m      2\u001b[0m \u001b[0;34m\u001b[0m\u001b[0m\n\u001b[1;32m      3\u001b[0m \u001b[0;34m\u001b[0m\u001b[0m\n\u001b[0;32m----> 4\u001b[0;31m \u001b[0mmglearn\u001b[0m\u001b[0;34m.\u001b[0m\u001b[0mplots\u001b[0m\u001b[0;34m.\u001b[0m\u001b[0mplot_2d_separator\u001b[0m\u001b[0;34m(\u001b[0m\u001b[0mmlp\u001b[0m\u001b[0;34m,\u001b[0m \u001b[0mX_resampled\u001b[0m\u001b[0;34m,\u001b[0m \u001b[0mfill\u001b[0m\u001b[0;34m=\u001b[0m\u001b[0;32mTrue\u001b[0m\u001b[0;34m,\u001b[0m \u001b[0malpha\u001b[0m\u001b[0;34m=\u001b[0m\u001b[0;36m.3\u001b[0m\u001b[0;34m)\u001b[0m\u001b[0;34m\u001b[0m\u001b[0;34m\u001b[0m\u001b[0m\n\u001b[0m\u001b[1;32m      5\u001b[0m \u001b[0mmglearn\u001b[0m\u001b[0;34m.\u001b[0m\u001b[0mdiscrete_scatter\u001b[0m\u001b[0;34m(\u001b[0m\u001b[0mX_resampled\u001b[0m\u001b[0;34m[\u001b[0m\u001b[0;34m:\u001b[0m\u001b[0;34m,\u001b[0m \u001b[0;36m0\u001b[0m\u001b[0;34m]\u001b[0m\u001b[0;34m,\u001b[0m \u001b[0mX_2\u001b[0m\u001b[0;34m[\u001b[0m\u001b[0;34m:\u001b[0m\u001b[0;34m,\u001b[0m \u001b[0;36m1\u001b[0m\u001b[0;34m]\u001b[0m\u001b[0;34m,\u001b[0m \u001b[0my_2\u001b[0m\u001b[0;34m)\u001b[0m\u001b[0;34m\u001b[0m\u001b[0;34m\u001b[0m\u001b[0m\n\u001b[1;32m      6\u001b[0m \u001b[0mplt\u001b[0m\u001b[0;34m.\u001b[0m\u001b[0mxlabel\u001b[0m\u001b[0;34m(\u001b[0m\u001b[0;34m\"Feature 0\"\u001b[0m\u001b[0;34m)\u001b[0m\u001b[0;34m\u001b[0m\u001b[0;34m\u001b[0m\u001b[0m\n",
            "\u001b[0;32m/usr/local/lib/python3.10/dist-packages/mglearn/plot_2d_separator.py\u001b[0m in \u001b[0;36mplot_2d_separator\u001b[0;34m(classifier, X, fill, ax, eps, alpha, cm, linewidth, threshold, linestyle)\u001b[0m\n\u001b[1;32m     90\u001b[0m     \u001b[0;32mexcept\u001b[0m \u001b[0mAttributeError\u001b[0m\u001b[0;34m:\u001b[0m\u001b[0;34m\u001b[0m\u001b[0;34m\u001b[0m\u001b[0m\n\u001b[1;32m     91\u001b[0m         \u001b[0;31m# no decision_function\u001b[0m\u001b[0;34m\u001b[0m\u001b[0;34m\u001b[0m\u001b[0m\n\u001b[0;32m---> 92\u001b[0;31m         \u001b[0mdecision_values\u001b[0m \u001b[0;34m=\u001b[0m \u001b[0mclassifier\u001b[0m\u001b[0;34m.\u001b[0m\u001b[0mpredict_proba\u001b[0m\u001b[0;34m(\u001b[0m\u001b[0mX_grid\u001b[0m\u001b[0;34m)\u001b[0m\u001b[0;34m[\u001b[0m\u001b[0;34m:\u001b[0m\u001b[0;34m,\u001b[0m \u001b[0;36m1\u001b[0m\u001b[0;34m]\u001b[0m\u001b[0;34m\u001b[0m\u001b[0;34m\u001b[0m\u001b[0m\n\u001b[0m\u001b[1;32m     93\u001b[0m         \u001b[0mlevels\u001b[0m \u001b[0;34m=\u001b[0m \u001b[0;34m[\u001b[0m\u001b[0;36m.5\u001b[0m\u001b[0;34m]\u001b[0m \u001b[0;32mif\u001b[0m \u001b[0mthreshold\u001b[0m \u001b[0;32mis\u001b[0m \u001b[0;32mNone\u001b[0m \u001b[0;32melse\u001b[0m \u001b[0;34m[\u001b[0m\u001b[0mthreshold\u001b[0m\u001b[0;34m]\u001b[0m\u001b[0;34m\u001b[0m\u001b[0;34m\u001b[0m\u001b[0m\n\u001b[1;32m     94\u001b[0m         \u001b[0mfill_levels\u001b[0m \u001b[0;34m=\u001b[0m \u001b[0;34m[\u001b[0m\u001b[0;36m0\u001b[0m\u001b[0;34m]\u001b[0m \u001b[0;34m+\u001b[0m \u001b[0mlevels\u001b[0m \u001b[0;34m+\u001b[0m \u001b[0;34m[\u001b[0m\u001b[0;36m1\u001b[0m\u001b[0;34m]\u001b[0m\u001b[0;34m\u001b[0m\u001b[0;34m\u001b[0m\u001b[0m\n",
            "\u001b[0;32m/usr/local/lib/python3.10/dist-packages/sklearn/neural_network/_multilayer_perceptron.py\u001b[0m in \u001b[0;36mpredict_proba\u001b[0;34m(self, X)\u001b[0m\n\u001b[1;32m   1240\u001b[0m         \"\"\"\n\u001b[1;32m   1241\u001b[0m         \u001b[0mcheck_is_fitted\u001b[0m\u001b[0;34m(\u001b[0m\u001b[0mself\u001b[0m\u001b[0;34m)\u001b[0m\u001b[0;34m\u001b[0m\u001b[0;34m\u001b[0m\u001b[0m\n\u001b[0;32m-> 1242\u001b[0;31m         \u001b[0my_pred\u001b[0m \u001b[0;34m=\u001b[0m \u001b[0mself\u001b[0m\u001b[0;34m.\u001b[0m\u001b[0m_forward_pass_fast\u001b[0m\u001b[0;34m(\u001b[0m\u001b[0mX\u001b[0m\u001b[0;34m)\u001b[0m\u001b[0;34m\u001b[0m\u001b[0;34m\u001b[0m\u001b[0m\n\u001b[0m\u001b[1;32m   1243\u001b[0m \u001b[0;34m\u001b[0m\u001b[0m\n\u001b[1;32m   1244\u001b[0m         \u001b[0;32mif\u001b[0m \u001b[0mself\u001b[0m\u001b[0;34m.\u001b[0m\u001b[0mn_outputs_\u001b[0m \u001b[0;34m==\u001b[0m \u001b[0;36m1\u001b[0m\u001b[0;34m:\u001b[0m\u001b[0;34m\u001b[0m\u001b[0;34m\u001b[0m\u001b[0m\n",
            "\u001b[0;32m/usr/local/lib/python3.10/dist-packages/sklearn/neural_network/_multilayer_perceptron.py\u001b[0m in \u001b[0;36m_forward_pass_fast\u001b[0;34m(self, X, check_input)\u001b[0m\n\u001b[1;32m    200\u001b[0m         \"\"\"\n\u001b[1;32m    201\u001b[0m         \u001b[0;32mif\u001b[0m \u001b[0mcheck_input\u001b[0m\u001b[0;34m:\u001b[0m\u001b[0;34m\u001b[0m\u001b[0;34m\u001b[0m\u001b[0m\n\u001b[0;32m--> 202\u001b[0;31m             \u001b[0mX\u001b[0m \u001b[0;34m=\u001b[0m \u001b[0mself\u001b[0m\u001b[0;34m.\u001b[0m\u001b[0m_validate_data\u001b[0m\u001b[0;34m(\u001b[0m\u001b[0mX\u001b[0m\u001b[0;34m,\u001b[0m \u001b[0maccept_sparse\u001b[0m\u001b[0;34m=\u001b[0m\u001b[0;34m[\u001b[0m\u001b[0;34m\"csr\"\u001b[0m\u001b[0;34m,\u001b[0m \u001b[0;34m\"csc\"\u001b[0m\u001b[0;34m]\u001b[0m\u001b[0;34m,\u001b[0m \u001b[0mreset\u001b[0m\u001b[0;34m=\u001b[0m\u001b[0;32mFalse\u001b[0m\u001b[0;34m)\u001b[0m\u001b[0;34m\u001b[0m\u001b[0;34m\u001b[0m\u001b[0m\n\u001b[0m\u001b[1;32m    203\u001b[0m \u001b[0;34m\u001b[0m\u001b[0m\n\u001b[1;32m    204\u001b[0m         \u001b[0;31m# Initialize first layer\u001b[0m\u001b[0;34m\u001b[0m\u001b[0;34m\u001b[0m\u001b[0m\n",
            "\u001b[0;32m/usr/local/lib/python3.10/dist-packages/sklearn/base.py\u001b[0m in \u001b[0;36m_validate_data\u001b[0;34m(self, X, y, reset, validate_separately, **check_params)\u001b[0m\n\u001b[1;32m    586\u001b[0m \u001b[0;34m\u001b[0m\u001b[0m\n\u001b[1;32m    587\u001b[0m         \u001b[0;32mif\u001b[0m \u001b[0;32mnot\u001b[0m \u001b[0mno_val_X\u001b[0m \u001b[0;32mand\u001b[0m \u001b[0mcheck_params\u001b[0m\u001b[0;34m.\u001b[0m\u001b[0mget\u001b[0m\u001b[0;34m(\u001b[0m\u001b[0;34m\"ensure_2d\"\u001b[0m\u001b[0;34m,\u001b[0m \u001b[0;32mTrue\u001b[0m\u001b[0;34m)\u001b[0m\u001b[0;34m:\u001b[0m\u001b[0;34m\u001b[0m\u001b[0;34m\u001b[0m\u001b[0m\n\u001b[0;32m--> 588\u001b[0;31m             \u001b[0mself\u001b[0m\u001b[0;34m.\u001b[0m\u001b[0m_check_n_features\u001b[0m\u001b[0;34m(\u001b[0m\u001b[0mX\u001b[0m\u001b[0;34m,\u001b[0m \u001b[0mreset\u001b[0m\u001b[0;34m=\u001b[0m\u001b[0mreset\u001b[0m\u001b[0;34m)\u001b[0m\u001b[0;34m\u001b[0m\u001b[0;34m\u001b[0m\u001b[0m\n\u001b[0m\u001b[1;32m    589\u001b[0m \u001b[0;34m\u001b[0m\u001b[0m\n\u001b[1;32m    590\u001b[0m         \u001b[0;32mreturn\u001b[0m \u001b[0mout\u001b[0m\u001b[0;34m\u001b[0m\u001b[0;34m\u001b[0m\u001b[0m\n",
            "\u001b[0;32m/usr/local/lib/python3.10/dist-packages/sklearn/base.py\u001b[0m in \u001b[0;36m_check_n_features\u001b[0;34m(self, X, reset)\u001b[0m\n\u001b[1;32m    387\u001b[0m \u001b[0;34m\u001b[0m\u001b[0m\n\u001b[1;32m    388\u001b[0m         \u001b[0;32mif\u001b[0m \u001b[0mn_features\u001b[0m \u001b[0;34m!=\u001b[0m \u001b[0mself\u001b[0m\u001b[0;34m.\u001b[0m\u001b[0mn_features_in_\u001b[0m\u001b[0;34m:\u001b[0m\u001b[0;34m\u001b[0m\u001b[0;34m\u001b[0m\u001b[0m\n\u001b[0;32m--> 389\u001b[0;31m             raise ValueError(\n\u001b[0m\u001b[1;32m    390\u001b[0m                 \u001b[0;34mf\"X has {n_features} features, but {self.__class__.__name__} \"\u001b[0m\u001b[0;34m\u001b[0m\u001b[0;34m\u001b[0m\u001b[0m\n\u001b[1;32m    391\u001b[0m                 \u001b[0;34mf\"is expecting {self.n_features_in_} features as input.\"\u001b[0m\u001b[0;34m\u001b[0m\u001b[0;34m\u001b[0m\u001b[0m\n",
            "\u001b[0;31mValueError\u001b[0m: X has 2 features, but MLPClassifier is expecting 28 features as input."
          ]
        },
        {
          "data": {
            "image/png": "[encoded data removed]",
            "text/plain": [
              "<Figure size 640x480 with 1 Axes>"
            ]
          },
          "metadata": {},
          "output_type": "display_data"
        }
      ],
      "source": [
        "'''import mglearn\n",
        "\n",
        "\n",
        "mglearn.plots.plot_2d_separator(mlp, X_resampled, fill=True, alpha=.3)\n",
        "mglearn.discrete_scatter(X_resampled[:, 0], X_2[:, 1], y_2)\n",
        "plt.xlabel(\"Feature 0\")\n",
        "plt.ylabel(\"Feature 1\")'''"
      ]
    }
  ],
  "metadata": {
    "colab": {
      "provenance": [],
      "authorship_tag": "ABX9TyOh8vUjvgbzpzQ9PdkRO5nX",
      "include_colab_link": true
    },
    "kernelspec": {
      "display_name": "Python 3",
      "name": "python3"
    },
    "language_info": {
      "name": "python"
    }
  },
  "nbformat": 4,
  "nbformat_minor": 0
}