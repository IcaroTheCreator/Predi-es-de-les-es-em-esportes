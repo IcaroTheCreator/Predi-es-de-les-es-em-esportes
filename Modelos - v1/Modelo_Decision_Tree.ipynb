{
  "cells": [
    {
      "cell_type": "markdown",
      "metadata": {
        "id": "view-in-github",
        "colab_type": "text"
      },
      "source": [
        "<a href=\"https://colab.research.google.com/github/IcaroTheCreator/Predicoes-de-lesoes-em-esportes/blob/main/Modelos%20-%20v1/Modelo_Decision_Tree.ipynb\" target=\"_parent\"><img src=\"https://colab.research.google.com/assets/colab-badge.svg\" alt=\"Open In Colab\"/></a>"
      ]
    },
    {
      "cell_type": "code",
      "execution_count": null,
      "metadata": {
        "id": "lvlEZSogYYXT",
        "colab": {
          "base_uri": "https://localhost:8080/"
        },
        "outputId": "4153e973-c432-4c51-cec0-d1105bb4bfcb"
      },
      "outputs": [
        {
          "output_type": "stream",
          "name": "stdout",
          "text": [
            "Collecting mglearn\n",
            "  Downloading mglearn-0.2.0-py2.py3-none-any.whl (581 kB)\n",
            "\u001b[2K     \u001b[90m━━━━━━━━━━━━━━━━━━━━━━━━━━━━━━━━━━━━━━━━\u001b[0m \u001b[32m581.4/581.4 kB\u001b[0m \u001b[31m9.0 MB/s\u001b[0m eta \u001b[36m0:00:00\u001b[0m\n",
            "\u001b[?25hRequirement already satisfied: numpy in /usr/local/lib/python3.10/dist-packages (from mglearn) (1.25.2)\n",
            "Requirement already satisfied: matplotlib in /usr/local/lib/python3.10/dist-packages (from mglearn) (3.7.1)\n",
            "Requirement already satisfied: scikit-learn in /usr/local/lib/python3.10/dist-packages (from mglearn) (1.2.2)\n",
            "Requirement already satisfied: pandas in /usr/local/lib/python3.10/dist-packages (from mglearn) (1.5.3)\n",
            "Requirement already satisfied: pillow in /usr/local/lib/python3.10/dist-packages (from mglearn) (9.4.0)\n",
            "Requirement already satisfied: cycler in /usr/local/lib/python3.10/dist-packages (from mglearn) (0.12.1)\n",
            "Requirement already satisfied: imageio in /usr/local/lib/python3.10/dist-packages (from mglearn) (2.31.6)\n",
            "Requirement already satisfied: joblib in /usr/local/lib/python3.10/dist-packages (from mglearn) (1.3.2)\n",
            "Requirement already satisfied: contourpy>=1.0.1 in /usr/local/lib/python3.10/dist-packages (from matplotlib->mglearn) (1.2.0)\n",
            "Requirement already satisfied: fonttools>=4.22.0 in /usr/local/lib/python3.10/dist-packages (from matplotlib->mglearn) (4.49.0)\n",
            "Requirement already satisfied: kiwisolver>=1.0.1 in /usr/local/lib/python3.10/dist-packages (from matplotlib->mglearn) (1.4.5)\n",
            "Requirement already satisfied: packaging>=20.0 in /usr/local/lib/python3.10/dist-packages (from matplotlib->mglearn) (23.2)\n",
            "Requirement already satisfied: pyparsing>=2.3.1 in /usr/local/lib/python3.10/dist-packages (from matplotlib->mglearn) (3.1.1)\n",
            "Requirement already satisfied: python-dateutil>=2.7 in /usr/local/lib/python3.10/dist-packages (from matplotlib->mglearn) (2.8.2)\n",
            "Requirement already satisfied: pytz>=2020.1 in /usr/local/lib/python3.10/dist-packages (from pandas->mglearn) (2023.4)\n",
            "Requirement already satisfied: scipy>=1.3.2 in /usr/local/lib/python3.10/dist-packages (from scikit-learn->mglearn) (1.11.4)\n",
            "Requirement already satisfied: threadpoolctl>=2.0.0 in /usr/local/lib/python3.10/dist-packages (from scikit-learn->mglearn) (3.3.0)\n",
            "Requirement already satisfied: six>=1.5 in /usr/local/lib/python3.10/dist-packages (from python-dateutil>=2.7->matplotlib->mglearn) (1.16.0)\n",
            "Installing collected packages: mglearn\n",
            "Successfully installed mglearn-0.2.0\n",
            "Mounted at /content/drive\n"
          ]
        }
      ],
      "source": [
        "#Importando as bibliotecas necessárias para processamento de dados, plotagem gráfica e treinamento dos modelos\n",
        "\n",
        "import numpy as np\n",
        "import pandas as pd #processamento de dados, para abrir o dataset (arquivo .csv)\n",
        "import itertools\n",
        "import seaborn as sns\n",
        "from sklearn.model_selection import train_test_split\n",
        "!pip install mglearn\n",
        "\n",
        "from google.colab import drive #para conectar o google drive ao notebook e trazer os datasets para cá\n",
        "drive.mount('/content/drive') #diretório onde o drive vai ser instaurado\n",
        "\n",
        "'''#from google.colab import files''' #função import para justamente fazer o upload dos arquivos do drive\n",
        "'''uploaded = files.upload()''' #para caso de upload\n",
        "\n",
        "# para caso de usar imagens\n",
        "import PIL\n",
        "from PIL import Image\n",
        "\n",
        "# para plotagem de gráficos\n",
        "import matplotlib.pyplot as plt #biblioteca mais comum para plotar as imagens\n",
        "import seaborn as sns\n",
        "import scipy.stats as ss\n",
        "\n",
        "# bibliotecas e modelos para o treinamento dos modelos\n",
        "from sklearn.model_selection import StratifiedKFold #função da biblioteca sklearn para dividir os sets de maneira estratificada\n",
        "from sklearn.model_selection import train_test_split #função da biblioteca sklearn para dividir os sets de maneira padrão\n",
        "from imblearn.over_sampling import RandomOverSampler, SMOTE #funções para over sampling (aumentar quantidade de ex da classe minoritária (lesão))\n",
        "import xgboost as xgb #um dos modelos de ML\n",
        "from sklearn.metrics import accuracy_score, confusion_matrix, cohen_kappa_score #funções que irão avaliar os modelos por meio de scores\n",
        "from sklearn.metrics import (ConfusionMatrixDisplay, f1_score, classification_report) #mais funções para avaliação do modelo\n",
        "from sklearn.tree import export_graphviz #função para imprimir a árvore de decisão\n",
        "import graphviz"
      ]
    },
    {
      "cell_type": "code",
      "execution_count": null,
      "metadata": {
        "id": "wFwVg72yf-9P"
      },
      "outputs": [],
      "source": [
        "play_df = pd.read_csv('/content/drive/My Drive/Datasets/PlayList.csv')\n",
        "#player_df = pd.read_csv('/content/drive/My Drive/Datasets/PlayerTrackData.csv')\n",
        "#este último dataset foi descartado pois ele pesa 3.7 GB e estoura a memória RAM gratuita do Colab e também seus dados não afetam o treinamento de nossos modelos\n",
        "injury_df = pd.read_csv('/content/drive/My Drive/Datasets/InjuryRecord.csv')"
      ]
    },
    {
      "cell_type": "code",
      "execution_count": null,
      "metadata": {
        "id": "0gRgKAu4gsnn"
      },
      "outputs": [],
      "source": [
        "# Criar um DataFrame com informações a nível de jogo.\n",
        "game_df = play_df[['GameID', 'StadiumType', 'FieldType', 'Weather', 'Temperature']].drop_duplicates().reset_index().drop(columns=['index'])"
      ]
    },
    {
      "cell_type": "code",
      "execution_count": null,
      "metadata": {
        "id": "kKrvm8oXhGzb"
      },
      "outputs": [],
      "source": [
        "def clean_weather(row):\n",
        "    cloudy = ['Cloudy 50% change of rain', 'Hazy', 'Cloudy.', 'Overcast', 'Mostly Cloudy',\n",
        "          'Cloudy, fog started developing in 2nd quarter', 'Partly Cloudy',\n",
        "          'Mostly cloudy', 'Rain Chance 40%',' Partly cloudy', 'Party Cloudy',\n",
        "          'Rain likely, temps in low 40s', 'Partly Clouidy', 'Cloudy, 50% change of rain','Mostly Coudy', '10% Chance of Rain',\n",
        "          'Cloudy, chance of rain', '30% Chance of Rain', 'Cloudy, light snow accumulating 1-3\"',\n",
        "          'cloudy', 'Coudy', 'Cloudy with periods of rain, thunder possible. Winds shifting to WNW, 10-20 mph.',\n",
        "         'Cloudy fog started developing in 2nd quarter', 'Cloudy light snow accumulating 1-3\"',\n",
        "         'Cloudywith periods of rain, thunder possible. Winds shifting to WNW, 10-20 mph.',\n",
        "         'Cloudy 50% change of rain', 'Cloudy and cold',\n",
        "       'Cloudy and Cool', 'Partly cloudy']\n",
        "\n",
        "    clear = ['Clear, Windy',' Clear to Cloudy', 'Clear, highs to upper 80s',\n",
        "             'Clear and clear','Partly sunny',\n",
        "             'Clear, Windy', 'Clear skies', 'Sunny', 'Partly Sunny', 'Mostly Sunny', 'Clear Skies',\n",
        "             'Sunny Skies', 'Partly clear', 'Fair', 'Sunny, highs to upper 80s', 'Sun & clouds', 'Mostly sunny','Sunny, Windy',\n",
        "             'Mostly Sunny Skies', 'Clear and Sunny', 'Clear and sunny','Clear to Partly Cloudy', 'Clear Skies',\n",
        "            'Clear and cold', 'Clear and warm', 'Clear and Cool', 'Sunny and cold', 'Sunny and warm', 'Sunny and clear']\n",
        "\n",
        "    rainy = ['Rainy', 'Scattered Showers', 'Showers', 'Cloudy Rain', 'Light Rain', 'Rain shower', 'Rain likely, temps in low 40s.', 'Cloudy, Rain']\n",
        "\n",
        "    snow = ['Heavy lake effect snow']\n",
        "\n",
        "    indoor = ['Controlled Climate', 'Indoors', 'N/A Indoor', 'N/A (Indoors)']\n",
        "\n",
        "    if row.Weather in cloudy:\n",
        "        return 'Cloudy'\n",
        "\n",
        "    if row.Weather in indoor:\n",
        "        return 'Indoor'\n",
        "\n",
        "    if row.Weather in clear:\n",
        "        return 'Clear'\n",
        "\n",
        "    if row.Weather in rainy:\n",
        "        return 'Rain'\n",
        "\n",
        "    if row.Weather in snow:\n",
        "        return 'Snow'\n",
        "\n",
        "    if row.Weather in ['Cloudy.', 'Heat Index 95', 'Cold']:\n",
        "        return np.nan\n",
        "\n",
        "    return row.Weather\n",
        "\n",
        "def clean_stadiumtype(row):\n",
        "    if row.StadiumType in ['Bowl', 'Heinz Field', 'Cloudy']:\n",
        "        return np.nan\n",
        "    else:\n",
        "        return row.StadiumType\n",
        "\n",
        "def clean_play_df(play_df):\n",
        "    play_df_cleaned = play_df.copy()\n",
        "\n",
        "    # Realiza uma limpeza na variável 'StadiumType'\n",
        "    play_df_cleaned['StadiumType'] = play_df_cleaned['StadiumType'].str.replace(r'Oudoor|Outdoors|Ourdoor|Outddors|Outdor|Outside', 'Outdoor')\n",
        "    play_df_cleaned['StadiumType'] = play_df_cleaned['StadiumType'].str.replace(r'Indoors|Indoor, Roof Closed|Indoor, Open Roof', 'Indoor')\n",
        "    play_df_cleaned['StadiumType'] = play_df_cleaned['StadiumType'].str.replace(r'Closed Dome|Domed, closed|Domed, Open|Domed, open|Dome, closed|Domed', 'Dome')\n",
        "    play_df_cleaned['StadiumType'] = play_df_cleaned['StadiumType'].str.replace(r'Retr. Roof-Closed|Outdoor Retr Roof-Open|Retr. Roof - Closed|Retr. Roof-Open|Retr. Roof - Open|Retr. Roof Closed', 'Retractable Roof')\n",
        "    play_df_cleaned['StadiumType'] = play_df_cleaned['StadiumType'].str.replace('Open', 'Outdoor')\n",
        "    play_df_cleaned['StadiumType'] = play_df_cleaned.apply(lambda row: clean_stadiumtype(row), axis=1)\n",
        "\n",
        "    # Realiza uma limpeza na variável 'Weather'\n",
        "    play_df_cleaned['Weather'] = play_df_cleaned.apply(lambda row: clean_weather(row), axis=1)\n",
        "\n",
        "    return play_df_cleaned"
      ]
    },
    {
      "cell_type": "code",
      "execution_count": null,
      "metadata": {
        "id": "T4h_x7ZqjFYO",
        "colab": {
          "base_uri": "https://localhost:8080/"
        },
        "outputId": "410e5a61-e95a-4256-c8c1-e73d9e1052f9"
      },
      "outputs": [
        {
          "output_type": "stream",
          "name": "stderr",
          "text": [
            "<ipython-input-4-e39945693612>:56: FutureWarning: The default value of regex will change from True to False in a future version.\n",
            "  play_df_cleaned['StadiumType'] = play_df_cleaned['StadiumType'].str.replace(r'Oudoor|Outdoors|Ourdoor|Outddors|Outdor|Outside', 'Outdoor')\n",
            "<ipython-input-4-e39945693612>:57: FutureWarning: The default value of regex will change from True to False in a future version.\n",
            "  play_df_cleaned['StadiumType'] = play_df_cleaned['StadiumType'].str.replace(r'Indoors|Indoor, Roof Closed|Indoor, Open Roof', 'Indoor')\n",
            "<ipython-input-4-e39945693612>:58: FutureWarning: The default value of regex will change from True to False in a future version.\n",
            "  play_df_cleaned['StadiumType'] = play_df_cleaned['StadiumType'].str.replace(r'Closed Dome|Domed, closed|Domed, Open|Domed, open|Dome, closed|Domed', 'Dome')\n",
            "<ipython-input-4-e39945693612>:59: FutureWarning: The default value of regex will change from True to False in a future version.\n",
            "  play_df_cleaned['StadiumType'] = play_df_cleaned['StadiumType'].str.replace(r'Retr. Roof-Closed|Outdoor Retr Roof-Open|Retr. Roof - Closed|Retr. Roof-Open|Retr. Roof - Open|Retr. Roof Closed', 'Retractable Roof')\n"
          ]
        }
      ],
      "source": [
        "#Cria o dataframe de jogadas com dados já limpos\n",
        "play_df_cleaned = clean_play_df(play_df)\n",
        "game_df_cleaned = play_df_cleaned[['GameID', 'StadiumType', 'FieldType', 'Weather', 'Temperature']].drop_duplicates().reset_index().drop(columns=['index'])"
      ]
    },
    {
      "cell_type": "code",
      "execution_count": null,
      "metadata": {
        "id": "XH5CDl5ljMYO"
      },
      "outputs": [],
      "source": [
        "# Começa as modificações no dataframe\n",
        "play_injury_df = injury_df.dropna(subset=['PlayKey']).set_index('PlayKey').join(play_df_cleaned.set_index('PlayKey'), how = 'outer', lsuffix='_left', rsuffix='_right')\n",
        "\n",
        "# Preenche as colunas vazias com zeros\n",
        "play_injury_df['DM_M1'] = play_injury_df['DM_M1'].fillna(0).astype(int)\n",
        "play_injury_df['DM_M7'] = play_injury_df['DM_M7'].fillna(0).astype(int)\n",
        "play_injury_df['DM_M28'] = play_injury_df['DM_M28'].fillna(0).astype(int)\n",
        "play_injury_df['DM_M42'] = play_injury_df['DM_M42'].fillna(0).astype(int)\n",
        "\n",
        "# Coloca um sinal de lesão nas colunas que ocorrem as lesões\n",
        "play_injury_df.DM_M1 = play_injury_df.DM_M1 - play_injury_df.DM_M7\n",
        "play_injury_df.DM_M7 = play_injury_df.DM_M7 - play_injury_df.DM_M28\n",
        "play_injury_df.DM_M28 = play_injury_df.DM_M28 - play_injury_df.DM_M42\n",
        "\n",
        "play_injury_df['Injury'] = play_injury_df['DM_M1'] + play_injury_df['DM_M7'] + play_injury_df['DM_M28']+ play_injury_df['DM_M42']\n",
        "\n",
        "# Dispensa as colunas duplicadas da variável 'Surface'\n",
        "play_injury_df = play_injury_df.drop(columns=['Surface'])\n",
        "\n",
        "# Cria variáveis dummy\n",
        "play_injury_df_dummies = pd.get_dummies(play_injury_df, columns = ['PlayType', 'PositionGroup'], dummy_na = True, drop_first = True)"
      ]
    },
    {
      "cell_type": "code",
      "execution_count": null,
      "metadata": {
        "id": "rlMcGrUA5GdL"
      },
      "outputs": [],
      "source": [
        "def visualize_play(play_df_cleaned):\n",
        "    plt.style.use('ggplot')\n",
        "    fig, ax = plt.subplots(1,1,figsize=(15,5))\n",
        "\n",
        "    plt.bar(play_df_cleaned.PlayType.value_counts().keys().values, play_df_cleaned.PlayType.value_counts().values)\n",
        "    plt.xticks(range(len(play_df_cleaned.PlayType.value_counts().keys().values)), play_df_cleaned.PlayType.value_counts().keys().values, rotation=20)\n",
        "    add_value_labels(ax, spacing=5)\n",
        "    plt.title('Play-Level Exploration: PlayType', fontsize=16)\n",
        "\n",
        "    plt.show()\n",
        "\n",
        "#plotando as situações de cada jogada"
      ]
    },
    {
      "cell_type": "code",
      "execution_count": null,
      "metadata": {
        "id": "7mHVA3PX50ZV",
        "colab": {
          "base_uri": "https://localhost:8080/"
        },
        "outputId": "9415c917-953a-4dda-bc4c-8de80e79d00f"
      },
      "outputs": [
        {
          "output_type": "stream",
          "name": "stderr",
          "text": [
            "<ipython-input-4-e39945693612>:56: FutureWarning: The default value of regex will change from True to False in a future version.\n",
            "  play_df_cleaned['StadiumType'] = play_df_cleaned['StadiumType'].str.replace(r'Oudoor|Outdoors|Ourdoor|Outddors|Outdor|Outside', 'Outdoor')\n",
            "<ipython-input-4-e39945693612>:57: FutureWarning: The default value of regex will change from True to False in a future version.\n",
            "  play_df_cleaned['StadiumType'] = play_df_cleaned['StadiumType'].str.replace(r'Indoors|Indoor, Roof Closed|Indoor, Open Roof', 'Indoor')\n",
            "<ipython-input-4-e39945693612>:58: FutureWarning: The default value of regex will change from True to False in a future version.\n",
            "  play_df_cleaned['StadiumType'] = play_df_cleaned['StadiumType'].str.replace(r'Closed Dome|Domed, closed|Domed, Open|Domed, open|Dome, closed|Domed', 'Dome')\n",
            "<ipython-input-4-e39945693612>:59: FutureWarning: The default value of regex will change from True to False in a future version.\n",
            "  play_df_cleaned['StadiumType'] = play_df_cleaned['StadiumType'].str.replace(r'Retr. Roof-Closed|Outdoor Retr Roof-Open|Retr. Roof - Closed|Retr. Roof-Open|Retr. Roof - Open|Retr. Roof Closed', 'Retractable Roof')\n"
          ]
        }
      ],
      "source": [
        "#Criando o dataframe com os dados das jogadas já limpos\n",
        "play_df_cleaned = clean_play_df(play_df)\n",
        "game_df_cleaned = play_df_cleaned[['GameID', 'StadiumType', 'FieldType', 'Weather', 'Temperature']].drop_duplicates().reset_index().drop(columns=['index'])"
      ]
    },
    {
      "cell_type": "code",
      "execution_count": null,
      "metadata": {
        "id": "WUsolChIT3Tl"
      },
      "outputs": [],
      "source": [
        "# Juntou o conjunto de dados de jogos limpo com o conjunto de dados de lesões.\n",
        "game_injury_df = injury_df.set_index('GameID').join(game_df_cleaned.set_index('GameID'), how = 'outer')\n",
        "\n",
        "# Preenche os valores nulos nas colunas de lesões com zeros.\n",
        "game_injury_df['DM_M1'] = game_injury_df['DM_M1'].fillna(0).astype(int)\n",
        "game_injury_df['DM_M7'] = game_injury_df['DM_M7'].fillna(0).astype(int)\n",
        "game_injury_df['DM_M28'] = game_injury_df['DM_M28'].fillna(0).astype(int)\n",
        "game_injury_df['DM_M42'] = game_injury_df['DM_M42'].fillna(0).astype(int)\n",
        "\n",
        "game_injury_df.DM_M1 = game_injury_df.DM_M1 - game_injury_df.DM_M7\n",
        "game_injury_df.DM_M7 = game_injury_df.DM_M7 - game_injury_df.DM_M28\n",
        "game_injury_df.DM_M28 = game_injury_df.DM_M28 - game_injury_df.DM_M42\n",
        "\n",
        "# Introduz uma coluna com uma flag indicando uma lesão.\n",
        "game_injury_df['Injury'] = game_injury_df['DM_M1'] + game_injury_df['DM_M7'] + game_injury_df['DM_M28'] + game_injury_df['DM_M42']\n",
        "\n",
        "# Remove a coluna de superfície duplicada.\n",
        "game_injury_df = game_injury_df.drop(columns=['Surface'])\n",
        "\n",
        "# Remove as características do nível de jogada por enquanto.\n",
        "game_injury_df = game_injury_df.drop(columns=['PlayerKey', 'PlayKey'])\n",
        "\n",
        "# Cria variáveis dummy\n",
        "game_injury_df_dummies = pd.get_dummies(game_injury_df, dummy_na = True, drop_first = True).drop(columns=['FieldType_nan'])"
      ]
    },
    {
      "cell_type": "code",
      "execution_count": null,
      "metadata": {
        "id": "lFMhZJzY-z4Z"
      },
      "outputs": [],
      "source": [
        "# reinicia o índice\n",
        "features_df = play_injury_df.copy().reset_index()\n",
        "# descarta as colunas irrelevantes\n",
        "features_df = features_df.drop(columns=['PlayerKey_left','GameID_left','BodyPart', 'PlayKey', 'PlayerKey_right', 'GameID_right', 'DM_M1', 'DM_M7', 'DM_M28', 'DM_M42', 'RosterPosition'])\n",
        "# as transforma em váriáveis dummy\n",
        "features_df = pd.get_dummies(features_df, dummy_na = False, drop_first = True)"
      ]
    },
    {
      "cell_type": "code",
      "execution_count": null,
      "metadata": {
        "id": "yrtyXYWB_n1i"
      },
      "outputs": [],
      "source": [
        "#aqui que muda, haverá um segundo descarte de features, com base na filtragem de feature_importance menor que 0.01\n",
        "features_df = features_df.drop(columns=['PositionGroup_LB'])\n",
        "#features_df = features_df.drop(columns=['RosterPosition_Linebacker'])\n",
        "features_df = features_df.drop(columns=['PositionGroup_Missing Data'])\n",
        "features_df = features_df.drop(columns=['PositionGroup_QB'])\n",
        "features_df = features_df.drop(columns=['Position_WR'])\n",
        "features_df = features_df.drop(columns=['Position_RB'])\n",
        "features_df = features_df.drop(columns=['Position_TE'])\n",
        "features_df = features_df.drop(columns=['PositionGroup_RB'])\n",
        "features_df = features_df.drop(columns=['PositionGroup_SPEC'])\n",
        "features_df = features_df.drop(columns=['PositionGroup_TE'])\n",
        "features_df = features_df.drop(columns=['Position_S'])\n",
        "features_df = features_df.drop(columns=['Position_ILB'])\n",
        "features_df = features_df.drop(columns=['Position_QB'])\n",
        "features_df = features_df.drop(columns=['Position_P'])\n",
        "features_df = features_df.drop(columns=['Position_NT'])\n",
        "features_df = features_df.drop(columns=['Position_Missing Data'])\n",
        "features_df = features_df.drop(columns=['Position_LB'])\n",
        "features_df = features_df.drop(columns=['Position_K'])\n",
        "features_df = features_df.drop(columns=['Position_HB'])\n",
        "#features_df = features_df.drop(columns=['RosterPosition_Kicker'])\n",
        "features_df = features_df.drop(columns=['Position_DE'])\n",
        "features_df = features_df.drop(columns=['Position_DB'])\n",
        "features_df = features_df.drop(columns=['PlayType_Punt Not Returned'])\n",
        "features_df = features_df.drop(columns=['PlayType_Kickoff Returned'])\n",
        "features_df = features_df.drop(columns=['Weather_Snow'])\n",
        "features_df = features_df.drop(columns=['PositionGroup_WR'])\n",
        "features_df = features_df.drop(columns=['Position_FS'])\n"
      ]
    },
    {
      "cell_type": "code",
      "execution_count": null,
      "metadata": {
        "id": "gj_ksozQ_sMj"
      },
      "outputs": [],
      "source": [
        "#separa em features e targets\n",
        "y = features_df['Injury']\n",
        "X = features_df.drop(columns=['Injury'])"
      ]
    },
    {
      "cell_type": "code",
      "execution_count": null,
      "metadata": {
        "id": "aVZ9-XlL_s32"
      },
      "outputs": [],
      "source": [
        "skf = StratifiedKFold(n_splits=2)\n",
        "#usa separação estratificada para treinar o conjunto de treino para distribuir igualmente os rótulos em todas as classes\n",
        "for train_index, test_index in skf.split(X, y):\n",
        "    X_train, X_test = X.values[train_index, :], X.values[test_index, :]\n",
        "    y_train, y_test = y[train_index], y[test_index]"
      ]
    },
    {
      "cell_type": "code",
      "execution_count": null,
      "metadata": {
        "id": "enU_x2Lx_vtx"
      },
      "outputs": [],
      "source": [
        "res = RandomOverSampler(random_state=0)\n",
        "X_resampled, y_resampled = res.fit_resample(X_train, y_train)\n",
        "X_teste, y_teste = res.fit_resample(X_test, y_test)\n",
        "#com um número ínfimo de lesões, é preciso rearranjar o dataset para a predição não resultar sempre em não lesão"
      ]
    },
    {
      "cell_type": "code",
      "source": [
        "features_df.info()"
      ],
      "metadata": {
        "id": "nHPFi8n7De_3",
        "colab": {
          "base_uri": "https://localhost:8080/"
        },
        "outputId": "0437c483-c25e-4831-b17a-6af04f927e4b"
      },
      "execution_count": null,
      "outputs": [
        {
          "output_type": "stream",
          "name": "stdout",
          "text": [
            "<class 'pandas.core.frame.DataFrame'>\n",
            "RangeIndex: 267006 entries, 0 to 267005\n",
            "Data columns (total 29 columns):\n",
            " #   Column                         Non-Null Count   Dtype\n",
            "---  ------                         --------------   -----\n",
            " 0   PlayerDay                      267006 non-null  int64\n",
            " 1   PlayerGame                     267006 non-null  int64\n",
            " 2   Temperature                    267006 non-null  int64\n",
            " 3   PlayerGamePlay                 267006 non-null  int64\n",
            " 4   Injury                         267006 non-null  int64\n",
            " 5   StadiumType_Indoor             267006 non-null  uint8\n",
            " 6   StadiumType_Outdoor            267006 non-null  uint8\n",
            " 7   StadiumType_Retractable Roof   267006 non-null  uint8\n",
            " 8   FieldType_Synthetic            267006 non-null  uint8\n",
            " 9   Weather_Cloudy                 267006 non-null  uint8\n",
            " 10  Weather_Indoor                 267006 non-null  uint8\n",
            " 11  Weather_Rain                   267006 non-null  uint8\n",
            " 12  PlayType_Extra Point           267006 non-null  uint8\n",
            " 13  PlayType_Field Goal            267006 non-null  uint8\n",
            " 14  PlayType_Kickoff               267006 non-null  uint8\n",
            " 15  PlayType_Kickoff Not Returned  267006 non-null  uint8\n",
            " 16  PlayType_Pass                  267006 non-null  uint8\n",
            " 17  PlayType_Punt                  267006 non-null  uint8\n",
            " 18  PlayType_Punt Returned         267006 non-null  uint8\n",
            " 19  PlayType_Rush                  267006 non-null  uint8\n",
            " 20  Position_CB                    267006 non-null  uint8\n",
            " 21  Position_DT                    267006 non-null  uint8\n",
            " 22  Position_G                     267006 non-null  uint8\n",
            " 23  Position_MLB                   267006 non-null  uint8\n",
            " 24  Position_OLB                   267006 non-null  uint8\n",
            " 25  Position_SS                    267006 non-null  uint8\n",
            " 26  Position_T                     267006 non-null  uint8\n",
            " 27  PositionGroup_DL               267006 non-null  uint8\n",
            " 28  PositionGroup_OL               267006 non-null  uint8\n",
            "dtypes: int64(5), uint8(24)\n",
            "memory usage: 16.3 MB\n"
          ]
        }
      ]
    },
    {
      "cell_type": "code",
      "source": [
        "from sklearn.tree import DecisionTreeClassifier\n",
        "\n",
        "tree = DecisionTreeClassifier(random_state=0)\n",
        "tree.fit(X_resampled, y_resampled)\n",
        "print(\"Accuracy on training set: {:.3f}\".format(tree.score(X_resampled, y_resampled)))\n",
        "print(\"Accuracy on test set: {:.3f}\".format(tree.score(X_teste, y_teste)))"
      ],
      "metadata": {
        "id": "oRem7mPvKpdl",
        "colab": {
          "base_uri": "https://localhost:8080/"
        },
        "outputId": "cc433e11-f691-440b-80b8-191fbe19a2e4"
      },
      "execution_count": null,
      "outputs": [
        {
          "output_type": "stream",
          "name": "stdout",
          "text": [
            "Accuracy on training set: 1.000\n",
            "Accuracy on test set: 0.499\n"
          ]
        }
      ]
    },
    {
      "cell_type": "code",
      "source": [
        "tree = DecisionTreeClassifier(max_depth=4, random_state=0)\n",
        "tree.fit(X_resampled, y_resampled)\n",
        "print(\"Accuracy on training set: {:.3f}\".format(tree.score(X_resampled, y_resampled)))\n",
        "print(\"Accuracy on test set: {:.3f}\".format(tree.score(X_teste, y_teste)))"
      ],
      "metadata": {
        "id": "OtKuLEelL6fb",
        "colab": {
          "base_uri": "https://localhost:8080/"
        },
        "outputId": "56535823-9ddd-4cde-d5b3-7efd7300d89d"
      },
      "execution_count": null,
      "outputs": [
        {
          "output_type": "stream",
          "name": "stdout",
          "text": [
            "Accuracy on training set: 0.806\n",
            "Accuracy on test set: 0.592\n"
          ]
        }
      ]
    },
    {
      "cell_type": "code",
      "source": [
        "export_graphviz(tree, out_file=\"tree.dot\", class_names=[\"Não Lesão\", \"Lesão\"], feature_names=X.columns, impurity=False, filled=True)\n",
        "\n",
        "with open(\"tree.dot\") as f:\n",
        "  dot_graph = f.read()\n",
        "graphviz.Source(dot_graph)"
      ],
      "metadata": {
        "id": "JbQYs3h8MEnd",
        "colab": {
          "base_uri": "https://localhost:8080/",
          "height": 658
        },
        "outputId": "08d8ea74-db42-4aea-a3f3-d52c2076fa7a"
      },
      "execution_count": null,
      "outputs": [
        {
          "output_type": "execute_result",
          "data": {
            "image/svg+xml": "<?xml version=\"1.0\" encoding=\"UTF-8\" standalone=\"no\"?>\n<!DOCTYPE svg PUBLIC \"-//W3C//DTD SVG 1.1//EN\"\n \"http://www.w3.org/Graphics/SVG/1.1/DTD/svg11.dtd\">\n<!-- Generated by graphviz version 2.43.0 (0)\n -->\n<!-- Title: Tree Pages: 1 -->\n<svg width=\"1305pt\" height=\"477pt\"\n viewBox=\"0.00 0.00 1304.50 477.00\" xmlns=\"http://www.w3.org/2000/svg\" xmlns:xlink=\"http://www.w3.org/1999/xlink\">\n<g id=\"graph0\" class=\"graph\" transform=\"scale(1 1) rotate(0) translate(4 473)\">\n<title>Tree</title>\n<polygon fill=\"white\" stroke=\"transparent\" points=\"-4,4 -4,-473 1300.5,-473 1300.5,4 -4,4\"/>\n<!-- 0 -->\n<g id=\"node1\" class=\"node\">\n<title>0</title>\n<polygon fill=\"#ffffff\" stroke=\"black\" points=\"718,-469 548,-469 548,-401 718,-401 718,-469\"/>\n<text text-anchor=\"middle\" x=\"633\" y=\"-453.8\" font-family=\"Helvetica,sans-Serif\" font-size=\"14.00\">PlayerGame &lt;= 9.5</text>\n<text text-anchor=\"middle\" x=\"633\" y=\"-438.8\" font-family=\"Helvetica,sans-Serif\" font-size=\"14.00\">samples = 266930</text>\n<text text-anchor=\"middle\" x=\"633\" y=\"-423.8\" font-family=\"Helvetica,sans-Serif\" font-size=\"14.00\">value = [133465, 133465]</text>\n<text text-anchor=\"middle\" x=\"633\" y=\"-408.8\" font-family=\"Helvetica,sans-Serif\" font-size=\"14.00\">class = Não Lesão</text>\n</g>\n<!-- 1 -->\n<g id=\"node2\" class=\"node\">\n<title>1</title>\n<polygon fill=\"#a3d1f3\" stroke=\"black\" points=\"628,-365 458,-365 458,-297 628,-297 628,-365\"/>\n<text text-anchor=\"middle\" x=\"543\" y=\"-349.8\" font-family=\"Helvetica,sans-Serif\" font-size=\"14.00\">PlayerGamePlay &lt;= 15.5</text>\n<text text-anchor=\"middle\" x=\"543\" y=\"-334.8\" font-family=\"Helvetica,sans-Serif\" font-size=\"14.00\">samples = 139807</text>\n<text text-anchor=\"middle\" x=\"543\" y=\"-319.8\" font-family=\"Helvetica,sans-Serif\" font-size=\"14.00\">value = [48615, 91192]</text>\n<text text-anchor=\"middle\" x=\"543\" y=\"-304.8\" font-family=\"Helvetica,sans-Serif\" font-size=\"14.00\">class = Lesão</text>\n</g>\n<!-- 0&#45;&gt;1 -->\n<g id=\"edge1\" class=\"edge\">\n<title>0&#45;&gt;1</title>\n<path fill=\"none\" stroke=\"black\" d=\"M603.78,-400.88C595.92,-391.98 587.33,-382.24 579.14,-372.96\"/>\n<polygon fill=\"black\" stroke=\"black\" points=\"581.62,-370.48 572.38,-365.3 576.37,-375.11 581.62,-370.48\"/>\n<text text-anchor=\"middle\" x=\"570.82\" y=\"-386.55\" font-family=\"Helvetica,sans-Serif\" font-size=\"14.00\">True</text>\n</g>\n<!-- 12 -->\n<g id=\"node13\" class=\"node\">\n<title>12</title>\n<polygon fill=\"#f2c09c\" stroke=\"black\" points=\"801.5,-365 646.5,-365 646.5,-297 801.5,-297 801.5,-365\"/>\n<text text-anchor=\"middle\" x=\"724\" y=\"-349.8\" font-family=\"Helvetica,sans-Serif\" font-size=\"14.00\">Temperature &lt;= 45.5</text>\n<text text-anchor=\"middle\" x=\"724\" y=\"-334.8\" font-family=\"Helvetica,sans-Serif\" font-size=\"14.00\">samples = 127123</text>\n<text text-anchor=\"middle\" x=\"724\" y=\"-319.8\" font-family=\"Helvetica,sans-Serif\" font-size=\"14.00\">value = [84850, 42273]</text>\n<text text-anchor=\"middle\" x=\"724\" y=\"-304.8\" font-family=\"Helvetica,sans-Serif\" font-size=\"14.00\">class = Não Lesão</text>\n</g>\n<!-- 0&#45;&gt;12 -->\n<g id=\"edge12\" class=\"edge\">\n<title>0&#45;&gt;12</title>\n<path fill=\"none\" stroke=\"black\" d=\"M662.55,-400.88C670.49,-391.98 679.18,-382.24 687.46,-372.96\"/>\n<polygon fill=\"black\" stroke=\"black\" points=\"690.25,-375.09 694.29,-365.3 685.02,-370.43 690.25,-375.09\"/>\n<text text-anchor=\"middle\" x=\"695.71\" y=\"-386.56\" font-family=\"Helvetica,sans-Serif\" font-size=\"14.00\">False</text>\n</g>\n<!-- 2 -->\n<g id=\"node3\" class=\"node\">\n<title>2</title>\n<polygon fill=\"#6cb6ec\" stroke=\"black\" points=\"457.5,-261 302.5,-261 302.5,-193 457.5,-193 457.5,-261\"/>\n<text text-anchor=\"middle\" x=\"380\" y=\"-245.8\" font-family=\"Helvetica,sans-Serif\" font-size=\"14.00\">Position_CB &lt;= 0.5</text>\n<text text-anchor=\"middle\" x=\"380\" y=\"-230.8\" font-family=\"Helvetica,sans-Serif\" font-size=\"14.00\">samples = 70650</text>\n<text text-anchor=\"middle\" x=\"380\" y=\"-215.8\" font-family=\"Helvetica,sans-Serif\" font-size=\"14.00\">value = [14462, 56188]</text>\n<text text-anchor=\"middle\" x=\"380\" y=\"-200.8\" font-family=\"Helvetica,sans-Serif\" font-size=\"14.00\">class = Lesão</text>\n</g>\n<!-- 1&#45;&gt;2 -->\n<g id=\"edge2\" class=\"edge\">\n<title>1&#45;&gt;2</title>\n<path fill=\"none\" stroke=\"black\" d=\"M490.08,-296.88C474.63,-287.21 457.61,-276.56 441.66,-266.59\"/>\n<polygon fill=\"black\" stroke=\"black\" points=\"443.27,-263.46 432.93,-261.12 439.56,-269.4 443.27,-263.46\"/>\n</g>\n<!-- 7 -->\n<g id=\"node8\" class=\"node\">\n<title>7</title>\n<polygon fill=\"#fafdfe\" stroke=\"black\" points=\"630.5,-261 475.5,-261 475.5,-193 630.5,-193 630.5,-261\"/>\n<text text-anchor=\"middle\" x=\"553\" y=\"-245.8\" font-family=\"Helvetica,sans-Serif\" font-size=\"14.00\">PlayType_Rush &lt;= 0.5</text>\n<text text-anchor=\"middle\" x=\"553\" y=\"-230.8\" font-family=\"Helvetica,sans-Serif\" font-size=\"14.00\">samples = 69157</text>\n<text text-anchor=\"middle\" x=\"553\" y=\"-215.8\" font-family=\"Helvetica,sans-Serif\" font-size=\"14.00\">value = [34153, 35004]</text>\n<text text-anchor=\"middle\" x=\"553\" y=\"-200.8\" font-family=\"Helvetica,sans-Serif\" font-size=\"14.00\">class = Lesão</text>\n</g>\n<!-- 1&#45;&gt;7 -->\n<g id=\"edge7\" class=\"edge\">\n<title>1&#45;&gt;7</title>\n<path fill=\"none\" stroke=\"black\" d=\"M546.25,-296.88C547.04,-288.78 547.9,-279.98 548.74,-271.47\"/>\n<polygon fill=\"black\" stroke=\"black\" points=\"552.24,-271.59 549.74,-261.3 545.28,-270.91 552.24,-271.59\"/>\n</g>\n<!-- 3 -->\n<g id=\"node4\" class=\"node\">\n<title>3</title>\n<polygon fill=\"#66b3eb\" stroke=\"black\" points=\"300.5,-157 145.5,-157 145.5,-89 300.5,-89 300.5,-157\"/>\n<text text-anchor=\"middle\" x=\"223\" y=\"-141.8\" font-family=\"Helvetica,sans-Serif\" font-size=\"14.00\">Temperature &lt;= 32.0</text>\n<text text-anchor=\"middle\" x=\"223\" y=\"-126.8\" font-family=\"Helvetica,sans-Serif\" font-size=\"14.00\">samples = 68877</text>\n<text text-anchor=\"middle\" x=\"223\" y=\"-111.8\" font-family=\"Helvetica,sans-Serif\" font-size=\"14.00\">value = [12689, 56188]</text>\n<text text-anchor=\"middle\" x=\"223\" y=\"-96.8\" font-family=\"Helvetica,sans-Serif\" font-size=\"14.00\">class = Lesão</text>\n</g>\n<!-- 2&#45;&gt;3 -->\n<g id=\"edge3\" class=\"edge\">\n<title>2&#45;&gt;3</title>\n<path fill=\"none\" stroke=\"black\" d=\"M329.03,-192.88C314.14,-183.21 297.75,-172.56 282.39,-162.59\"/>\n<polygon fill=\"black\" stroke=\"black\" points=\"284.28,-159.64 273.99,-157.12 280.46,-165.51 284.28,-159.64\"/>\n</g>\n<!-- 6 -->\n<g id=\"node7\" class=\"node\">\n<title>6</title>\n<polygon fill=\"#e58139\" stroke=\"black\" points=\"447,-149.5 319,-149.5 319,-96.5 447,-96.5 447,-149.5\"/>\n<text text-anchor=\"middle\" x=\"383\" y=\"-134.3\" font-family=\"Helvetica,sans-Serif\" font-size=\"14.00\">samples = 1773</text>\n<text text-anchor=\"middle\" x=\"383\" y=\"-119.3\" font-family=\"Helvetica,sans-Serif\" font-size=\"14.00\">value = [1773, 0]</text>\n<text text-anchor=\"middle\" x=\"383\" y=\"-104.3\" font-family=\"Helvetica,sans-Serif\" font-size=\"14.00\">class = Não Lesão</text>\n</g>\n<!-- 2&#45;&gt;6 -->\n<g id=\"edge6\" class=\"edge\">\n<title>2&#45;&gt;6</title>\n<path fill=\"none\" stroke=\"black\" d=\"M380.97,-192.88C381.29,-182.22 381.64,-170.35 381.96,-159.52\"/>\n<polygon fill=\"black\" stroke=\"black\" points=\"385.45,-159.62 382.25,-149.52 378.46,-159.41 385.45,-159.62\"/>\n</g>\n<!-- 4 -->\n<g id=\"node5\" class=\"node\">\n<title>4</title>\n<polygon fill=\"#e58139\" stroke=\"black\" points=\"128,-53 0,-53 0,0 128,0 128,-53\"/>\n<text text-anchor=\"middle\" x=\"64\" y=\"-37.8\" font-family=\"Helvetica,sans-Serif\" font-size=\"14.00\">samples = 1483</text>\n<text text-anchor=\"middle\" x=\"64\" y=\"-22.8\" font-family=\"Helvetica,sans-Serif\" font-size=\"14.00\">value = [1483, 0]</text>\n<text text-anchor=\"middle\" x=\"64\" y=\"-7.8\" font-family=\"Helvetica,sans-Serif\" font-size=\"14.00\">class = Não Lesão</text>\n</g>\n<!-- 3&#45;&gt;4 -->\n<g id=\"edge4\" class=\"edge\">\n<title>3&#45;&gt;4</title>\n<path fill=\"none\" stroke=\"black\" d=\"M167.39,-88.95C150.69,-79.02 132.44,-68.18 115.99,-58.4\"/>\n<polygon fill=\"black\" stroke=\"black\" points=\"117.44,-55.19 107.05,-53.09 113.86,-61.2 117.44,-55.19\"/>\n</g>\n<!-- 5 -->\n<g id=\"node6\" class=\"node\">\n<title>5</title>\n<polygon fill=\"#60b1ea\" stroke=\"black\" points=\"301.5,-53 146.5,-53 146.5,0 301.5,0 301.5,-53\"/>\n<text text-anchor=\"middle\" x=\"224\" y=\"-37.8\" font-family=\"Helvetica,sans-Serif\" font-size=\"14.00\">samples = 67394</text>\n<text text-anchor=\"middle\" x=\"224\" y=\"-22.8\" font-family=\"Helvetica,sans-Serif\" font-size=\"14.00\">value = [11206, 56188]</text>\n<text text-anchor=\"middle\" x=\"224\" y=\"-7.8\" font-family=\"Helvetica,sans-Serif\" font-size=\"14.00\">class = Lesão</text>\n</g>\n<!-- 3&#45;&gt;5 -->\n<g id=\"edge5\" class=\"edge\">\n<title>3&#45;&gt;5</title>\n<path fill=\"none\" stroke=\"black\" d=\"M223.35,-88.95C223.44,-80.72 223.53,-71.85 223.62,-63.48\"/>\n<polygon fill=\"black\" stroke=\"black\" points=\"227.12,-63.27 223.73,-53.24 220.12,-63.2 227.12,-63.27\"/>\n</g>\n<!-- 8 -->\n<g id=\"node9\" class=\"node\">\n<title>8</title>\n<polygon fill=\"#b6dbf5\" stroke=\"black\" points=\"626.5,-157 471.5,-157 471.5,-89 626.5,-89 626.5,-157\"/>\n<text text-anchor=\"middle\" x=\"549\" y=\"-141.8\" font-family=\"Helvetica,sans-Serif\" font-size=\"14.00\">PlayerDay &lt;= 51.5</text>\n<text text-anchor=\"middle\" x=\"549\" y=\"-126.8\" font-family=\"Helvetica,sans-Serif\" font-size=\"14.00\">samples = 57140</text>\n<text text-anchor=\"middle\" x=\"549\" y=\"-111.8\" font-family=\"Helvetica,sans-Serif\" font-size=\"14.00\">value = [22136, 35004]</text>\n<text text-anchor=\"middle\" x=\"549\" y=\"-96.8\" font-family=\"Helvetica,sans-Serif\" font-size=\"14.00\">class = Lesão</text>\n</g>\n<!-- 7&#45;&gt;8 -->\n<g id=\"edge8\" class=\"edge\">\n<title>7&#45;&gt;8</title>\n<path fill=\"none\" stroke=\"black\" d=\"M551.7,-192.88C551.38,-184.78 551.04,-175.98 550.7,-167.47\"/>\n<polygon fill=\"black\" stroke=\"black\" points=\"554.2,-167.15 550.31,-157.3 547.2,-167.43 554.2,-167.15\"/>\n</g>\n<!-- 11 -->\n<g id=\"node12\" class=\"node\">\n<title>11</title>\n<polygon fill=\"#e58139\" stroke=\"black\" points=\"773,-149.5 645,-149.5 645,-96.5 773,-96.5 773,-149.5\"/>\n<text text-anchor=\"middle\" x=\"709\" y=\"-134.3\" font-family=\"Helvetica,sans-Serif\" font-size=\"14.00\">samples = 12017</text>\n<text text-anchor=\"middle\" x=\"709\" y=\"-119.3\" font-family=\"Helvetica,sans-Serif\" font-size=\"14.00\">value = [12017, 0]</text>\n<text text-anchor=\"middle\" x=\"709\" y=\"-104.3\" font-family=\"Helvetica,sans-Serif\" font-size=\"14.00\">class = Não Lesão</text>\n</g>\n<!-- 7&#45;&gt;11 -->\n<g id=\"edge11\" class=\"edge\">\n<title>7&#45;&gt;11</title>\n<path fill=\"none\" stroke=\"black\" d=\"M603.65,-192.88C622.15,-180.79 643,-167.15 661.25,-155.22\"/>\n<polygon fill=\"black\" stroke=\"black\" points=\"663.52,-157.92 669.97,-149.52 659.68,-152.06 663.52,-157.92\"/>\n</g>\n<!-- 9 -->\n<g id=\"node10\" class=\"node\">\n<title>9</title>\n<polygon fill=\"#98ccf1\" stroke=\"black\" points=\"498.5,-53 343.5,-53 343.5,0 498.5,0 498.5,-53\"/>\n<text text-anchor=\"middle\" x=\"421\" y=\"-37.8\" font-family=\"Helvetica,sans-Serif\" font-size=\"14.00\">samples = 51737</text>\n<text text-anchor=\"middle\" x=\"421\" y=\"-22.8\" font-family=\"Helvetica,sans-Serif\" font-size=\"14.00\">value = [16733, 35004]</text>\n<text text-anchor=\"middle\" x=\"421\" y=\"-7.8\" font-family=\"Helvetica,sans-Serif\" font-size=\"14.00\">class = Lesão</text>\n</g>\n<!-- 8&#45;&gt;9 -->\n<g id=\"edge9\" class=\"edge\">\n<title>8&#45;&gt;9</title>\n<path fill=\"none\" stroke=\"black\" d=\"M504.23,-88.95C491.22,-79.34 477.04,-68.87 464.13,-59.34\"/>\n<polygon fill=\"black\" stroke=\"black\" points=\"465.98,-56.36 455.86,-53.24 461.83,-61.99 465.98,-56.36\"/>\n</g>\n<!-- 10 -->\n<g id=\"node11\" class=\"node\">\n<title>10</title>\n<polygon fill=\"#e58139\" stroke=\"black\" points=\"645,-53 517,-53 517,0 645,0 645,-53\"/>\n<text text-anchor=\"middle\" x=\"581\" y=\"-37.8\" font-family=\"Helvetica,sans-Serif\" font-size=\"14.00\">samples = 5403</text>\n<text text-anchor=\"middle\" x=\"581\" y=\"-22.8\" font-family=\"Helvetica,sans-Serif\" font-size=\"14.00\">value = [5403, 0]</text>\n<text text-anchor=\"middle\" x=\"581\" y=\"-7.8\" font-family=\"Helvetica,sans-Serif\" font-size=\"14.00\">class = Não Lesão</text>\n</g>\n<!-- 8&#45;&gt;10 -->\n<g id=\"edge10\" class=\"edge\">\n<title>8&#45;&gt;10</title>\n<path fill=\"none\" stroke=\"black\" d=\"M560.19,-88.95C563.04,-80.53 566.12,-71.45 569,-62.92\"/>\n<polygon fill=\"black\" stroke=\"black\" points=\"572.39,-63.83 572.28,-53.24 565.76,-61.59 572.39,-63.83\"/>\n</g>\n<!-- 13 -->\n<g id=\"node14\" class=\"node\">\n<title>13</title>\n<polygon fill=\"#e58139\" stroke=\"black\" points=\"786,-253.5 658,-253.5 658,-200.5 786,-200.5 786,-253.5\"/>\n<text text-anchor=\"middle\" x=\"722\" y=\"-238.3\" font-family=\"Helvetica,sans-Serif\" font-size=\"14.00\">samples = 27985</text>\n<text text-anchor=\"middle\" x=\"722\" y=\"-223.3\" font-family=\"Helvetica,sans-Serif\" font-size=\"14.00\">value = [27985, 0]</text>\n<text text-anchor=\"middle\" x=\"722\" y=\"-208.3\" font-family=\"Helvetica,sans-Serif\" font-size=\"14.00\">class = Não Lesão</text>\n</g>\n<!-- 12&#45;&gt;13 -->\n<g id=\"edge13\" class=\"edge\">\n<title>12&#45;&gt;13</title>\n<path fill=\"none\" stroke=\"black\" d=\"M723.35,-296.88C723.14,-286.22 722.91,-274.35 722.7,-263.52\"/>\n<polygon fill=\"black\" stroke=\"black\" points=\"726.2,-263.45 722.5,-253.52 719.2,-263.59 726.2,-263.45\"/>\n</g>\n<!-- 14 -->\n<g id=\"node15\" class=\"node\">\n<title>14</title>\n<polygon fill=\"#f8dfcc\" stroke=\"black\" points=\"959.5,-261 804.5,-261 804.5,-193 959.5,-193 959.5,-261\"/>\n<text text-anchor=\"middle\" x=\"882\" y=\"-245.8\" font-family=\"Helvetica,sans-Serif\" font-size=\"14.00\">PlayerDay &lt;= 364.5</text>\n<text text-anchor=\"middle\" x=\"882\" y=\"-230.8\" font-family=\"Helvetica,sans-Serif\" font-size=\"14.00\">samples = 99138</text>\n<text text-anchor=\"middle\" x=\"882\" y=\"-215.8\" font-family=\"Helvetica,sans-Serif\" font-size=\"14.00\">value = [56865, 42273]</text>\n<text text-anchor=\"middle\" x=\"882\" y=\"-200.8\" font-family=\"Helvetica,sans-Serif\" font-size=\"14.00\">class = Não Lesão</text>\n</g>\n<!-- 12&#45;&gt;14 -->\n<g id=\"edge14\" class=\"edge\">\n<title>12&#45;&gt;14</title>\n<path fill=\"none\" stroke=\"black\" d=\"M775.3,-296.88C790.28,-287.21 806.77,-276.56 822.23,-266.59\"/>\n<polygon fill=\"black\" stroke=\"black\" points=\"824.19,-269.49 830.69,-261.12 820.39,-263.61 824.19,-269.49\"/>\n</g>\n<!-- 15 -->\n<g id=\"node16\" class=\"node\">\n<title>15</title>\n<polygon fill=\"#ea975c\" stroke=\"black\" points=\"954.5,-157 807.5,-157 807.5,-89 954.5,-89 954.5,-157\"/>\n<text text-anchor=\"middle\" x=\"881\" y=\"-141.8\" font-family=\"Helvetica,sans-Serif\" font-size=\"14.00\">Position_T &lt;= 0.5</text>\n<text text-anchor=\"middle\" x=\"881\" y=\"-126.8\" font-family=\"Helvetica,sans-Serif\" font-size=\"14.00\">samples = 23290</text>\n<text text-anchor=\"middle\" x=\"881\" y=\"-111.8\" font-family=\"Helvetica,sans-Serif\" font-size=\"14.00\">value = [19766, 3524]</text>\n<text text-anchor=\"middle\" x=\"881\" y=\"-96.8\" font-family=\"Helvetica,sans-Serif\" font-size=\"14.00\">class = Não Lesão</text>\n</g>\n<!-- 14&#45;&gt;15 -->\n<g id=\"edge15\" class=\"edge\">\n<title>14&#45;&gt;15</title>\n<path fill=\"none\" stroke=\"black\" d=\"M881.68,-192.88C881.6,-184.78 881.51,-175.98 881.43,-167.47\"/>\n<polygon fill=\"black\" stroke=\"black\" points=\"884.92,-167.26 881.33,-157.3 877.92,-167.33 884.92,-167.26\"/>\n</g>\n<!-- 18 -->\n<g id=\"node19\" class=\"node\">\n<title>18</title>\n<polygon fill=\"#f7fbfe\" stroke=\"black\" points=\"1127.5,-157 972.5,-157 972.5,-89 1127.5,-89 1127.5,-157\"/>\n<text text-anchor=\"middle\" x=\"1050\" y=\"-141.8\" font-family=\"Helvetica,sans-Serif\" font-size=\"14.00\">PlayerGame &lt;= 16.5</text>\n<text text-anchor=\"middle\" x=\"1050\" y=\"-126.8\" font-family=\"Helvetica,sans-Serif\" font-size=\"14.00\">samples = 75848</text>\n<text text-anchor=\"middle\" x=\"1050\" y=\"-111.8\" font-family=\"Helvetica,sans-Serif\" font-size=\"14.00\">value = [37099, 38749]</text>\n<text text-anchor=\"middle\" x=\"1050\" y=\"-96.8\" font-family=\"Helvetica,sans-Serif\" font-size=\"14.00\">class = Lesão</text>\n</g>\n<!-- 14&#45;&gt;18 -->\n<g id=\"edge18\" class=\"edge\">\n<title>14&#45;&gt;18</title>\n<path fill=\"none\" stroke=\"black\" d=\"M936.54,-192.88C952.47,-183.21 970.01,-172.56 986.44,-162.59\"/>\n<polygon fill=\"black\" stroke=\"black\" points=\"988.71,-165.31 995.44,-157.12 985.08,-159.32 988.71,-165.31\"/>\n</g>\n<!-- 16 -->\n<g id=\"node17\" class=\"node\">\n<title>16</title>\n<polygon fill=\"#e58139\" stroke=\"black\" points=\"803,-53 675,-53 675,0 803,0 803,-53\"/>\n<text text-anchor=\"middle\" x=\"739\" y=\"-37.8\" font-family=\"Helvetica,sans-Serif\" font-size=\"14.00\">samples = 19108</text>\n<text text-anchor=\"middle\" x=\"739\" y=\"-22.8\" font-family=\"Helvetica,sans-Serif\" font-size=\"14.00\">value = [19108, 0]</text>\n<text text-anchor=\"middle\" x=\"739\" y=\"-7.8\" font-family=\"Helvetica,sans-Serif\" font-size=\"14.00\">class = Não Lesão</text>\n</g>\n<!-- 15&#45;&gt;16 -->\n<g id=\"edge16\" class=\"edge\">\n<title>15&#45;&gt;16</title>\n<path fill=\"none\" stroke=\"black\" d=\"M831.34,-88.95C816.63,-79.16 800.57,-68.48 786.04,-58.8\"/>\n<polygon fill=\"black\" stroke=\"black\" points=\"787.94,-55.86 777.67,-53.24 784.06,-61.69 787.94,-55.86\"/>\n</g>\n<!-- 17 -->\n<g id=\"node18\" class=\"node\">\n<title>17</title>\n<polygon fill=\"#5eafea\" stroke=\"black\" points=\"953,-53 821,-53 821,0 953,0 953,-53\"/>\n<text text-anchor=\"middle\" x=\"887\" y=\"-37.8\" font-family=\"Helvetica,sans-Serif\" font-size=\"14.00\">samples = 4182</text>\n<text text-anchor=\"middle\" x=\"887\" y=\"-22.8\" font-family=\"Helvetica,sans-Serif\" font-size=\"14.00\">value = [658, 3524]</text>\n<text text-anchor=\"middle\" x=\"887\" y=\"-7.8\" font-family=\"Helvetica,sans-Serif\" font-size=\"14.00\">class = Lesão</text>\n</g>\n<!-- 15&#45;&gt;17 -->\n<g id=\"edge17\" class=\"edge\">\n<title>15&#45;&gt;17</title>\n<path fill=\"none\" stroke=\"black\" d=\"M883.1,-88.95C883.62,-80.72 884.18,-71.85 884.72,-63.48\"/>\n<polygon fill=\"black\" stroke=\"black\" points=\"888.23,-63.44 885.37,-53.24 881.24,-62.99 888.23,-63.44\"/>\n</g>\n<!-- 19 -->\n<g id=\"node20\" class=\"node\">\n<title>19</title>\n<polygon fill=\"#6eb7ec\" stroke=\"black\" points=\"1123.5,-53 976.5,-53 976.5,0 1123.5,0 1123.5,-53\"/>\n<text text-anchor=\"middle\" x=\"1050\" y=\"-37.8\" font-family=\"Helvetica,sans-Serif\" font-size=\"14.00\">samples = 26912</text>\n<text text-anchor=\"middle\" x=\"1050\" y=\"-22.8\" font-family=\"Helvetica,sans-Serif\" font-size=\"14.00\">value = [5666, 21246]</text>\n<text text-anchor=\"middle\" x=\"1050\" y=\"-7.8\" font-family=\"Helvetica,sans-Serif\" font-size=\"14.00\">class = Lesão</text>\n</g>\n<!-- 18&#45;&gt;19 -->\n<g id=\"edge19\" class=\"edge\">\n<title>18&#45;&gt;19</title>\n<path fill=\"none\" stroke=\"black\" d=\"M1050,-88.95C1050,-80.72 1050,-71.85 1050,-63.48\"/>\n<polygon fill=\"black\" stroke=\"black\" points=\"1053.5,-63.24 1050,-53.24 1046.5,-63.24 1053.5,-63.24\"/>\n</g>\n<!-- 20 -->\n<g id=\"node21\" class=\"node\">\n<title>20</title>\n<polygon fill=\"#f3c7a7\" stroke=\"black\" points=\"1296.5,-53 1141.5,-53 1141.5,0 1296.5,0 1296.5,-53\"/>\n<text text-anchor=\"middle\" x=\"1219\" y=\"-37.8\" font-family=\"Helvetica,sans-Serif\" font-size=\"14.00\">samples = 48936</text>\n<text text-anchor=\"middle\" x=\"1219\" y=\"-22.8\" font-family=\"Helvetica,sans-Serif\" font-size=\"14.00\">value = [31433, 17503]</text>\n<text text-anchor=\"middle\" x=\"1219\" y=\"-7.8\" font-family=\"Helvetica,sans-Serif\" font-size=\"14.00\">class = Não Lesão</text>\n</g>\n<!-- 18&#45;&gt;20 -->\n<g id=\"edge20\" class=\"edge\">\n<title>18&#45;&gt;20</title>\n<path fill=\"none\" stroke=\"black\" d=\"M1109.11,-88.95C1127.02,-78.93 1146.61,-67.98 1164.23,-58.13\"/>\n<polygon fill=\"black\" stroke=\"black\" points=\"1166.22,-61.02 1173.24,-53.09 1162.81,-54.91 1166.22,-61.02\"/>\n</g>\n</g>\n</svg>\n",
            "text/plain": [
              "<graphviz.sources.Source at 0x7d11e46d5990>"
            ]
          },
          "metadata": {},
          "execution_count": 23
        }
      ]
    }
  ],
  "metadata": {
    "colab": {
      "provenance": [],
      "authorship_tag": "ABX9TyNzGl3I9hd2d6IhiH7TvUrF",
      "include_colab_link": true
    },
    "kernelspec": {
      "display_name": "Python 3",
      "name": "python3"
    },
    "language_info": {
      "name": "python"
    }
  },
  "nbformat": 4,
  "nbformat_minor": 0
}