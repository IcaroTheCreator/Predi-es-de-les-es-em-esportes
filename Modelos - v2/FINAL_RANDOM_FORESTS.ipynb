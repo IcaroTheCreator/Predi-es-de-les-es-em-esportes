{
  "cells": [
    {
      "cell_type": "markdown",
      "metadata": {
        "id": "view-in-github",
        "colab_type": "text"
      },
      "source": [
        "<a href=\"https://colab.research.google.com/github/IcaroTheCreator/Predicoes-de-lesoes-em-esportes/blob/Icaro/Modelos%20-%20v2/FINAL_RANDOM_FORESTS.ipynb\" target=\"_parent\"><img src=\"https://colab.research.google.com/assets/colab-badge.svg\" alt=\"Open In Colab\"/></a>"
      ]
    },
    {
      "cell_type": "code",
      "execution_count": null,
      "metadata": {
        "id": "lvlEZSogYYXT",
        "colab": {
          "base_uri": "https://localhost:8080/"
        },
        "outputId": "e3b12af1-c35b-454b-ecc7-d3f2e3a2fe76"
      },
      "outputs": [
        {
          "output_type": "stream",
          "name": "stdout",
          "text": [
            "Requirement already satisfied: mglearn in /usr/local/lib/python3.10/dist-packages (0.2.0)\n",
            "Requirement already satisfied: numpy in /usr/local/lib/python3.10/dist-packages (from mglearn) (1.25.2)\n",
            "Requirement already satisfied: matplotlib in /usr/local/lib/python3.10/dist-packages (from mglearn) (3.7.1)\n",
            "Requirement already satisfied: scikit-learn in /usr/local/lib/python3.10/dist-packages (from mglearn) (1.2.2)\n",
            "Requirement already satisfied: pandas in /usr/local/lib/python3.10/dist-packages (from mglearn) (1.5.3)\n",
            "Requirement already satisfied: pillow in /usr/local/lib/python3.10/dist-packages (from mglearn) (9.4.0)\n",
            "Requirement already satisfied: cycler in /usr/local/lib/python3.10/dist-packages (from mglearn) (0.12.1)\n",
            "Requirement already satisfied: imageio in /usr/local/lib/python3.10/dist-packages (from mglearn) (2.31.6)\n",
            "Requirement already satisfied: joblib in /usr/local/lib/python3.10/dist-packages (from mglearn) (1.3.2)\n",
            "Requirement already satisfied: contourpy>=1.0.1 in /usr/local/lib/python3.10/dist-packages (from matplotlib->mglearn) (1.2.0)\n",
            "Requirement already satisfied: fonttools>=4.22.0 in /usr/local/lib/python3.10/dist-packages (from matplotlib->mglearn) (4.49.0)\n",
            "Requirement already satisfied: kiwisolver>=1.0.1 in /usr/local/lib/python3.10/dist-packages (from matplotlib->mglearn) (1.4.5)\n",
            "Requirement already satisfied: packaging>=20.0 in /usr/local/lib/python3.10/dist-packages (from matplotlib->mglearn) (23.2)\n",
            "Requirement already satisfied: pyparsing>=2.3.1 in /usr/local/lib/python3.10/dist-packages (from matplotlib->mglearn) (3.1.1)\n",
            "Requirement already satisfied: python-dateutil>=2.7 in /usr/local/lib/python3.10/dist-packages (from matplotlib->mglearn) (2.8.2)\n",
            "Requirement already satisfied: pytz>=2020.1 in /usr/local/lib/python3.10/dist-packages (from pandas->mglearn) (2023.4)\n",
            "Requirement already satisfied: scipy>=1.3.2 in /usr/local/lib/python3.10/dist-packages (from scikit-learn->mglearn) (1.11.4)\n",
            "Requirement already satisfied: threadpoolctl>=2.0.0 in /usr/local/lib/python3.10/dist-packages (from scikit-learn->mglearn) (3.3.0)\n",
            "Requirement already satisfied: six>=1.5 in /usr/local/lib/python3.10/dist-packages (from python-dateutil>=2.7->matplotlib->mglearn) (1.16.0)\n",
            "Drive already mounted at /content/drive; to attempt to forcibly remount, call drive.mount(\"/content/drive\", force_remount=True).\n"
          ]
        }
      ],
      "source": [
        "#Importando as bibliotecas necessárias para processamento de dados, plotagem gráfica e treinamento dos modelos\n",
        "\n",
        "import numpy as np\n",
        "import pandas as pd #processamento de dados, para abrir o dataset (arquivo .csv)\n",
        "import itertools\n",
        "import seaborn as sns\n",
        "from sklearn.model_selection import train_test_split\n",
        "!pip install mglearn\n",
        "\n",
        "from google.colab import drive #para conectar o google drive ao notebook e trazer os datasets para cá\n",
        "drive.mount('/content/drive') #diretório onde o drive vai ser instaurado\n",
        "\n",
        "'''#from google.colab import files''' #função import para justamente fazer o upload dos arquivos do drive\n",
        "'''uploaded = files.upload()''' #para caso de upload\n",
        "\n",
        "# para caso de usar imagens\n",
        "import PIL\n",
        "from PIL import Image\n",
        "\n",
        "# para plotagem de gráficos\n",
        "import matplotlib.pyplot as plt #biblioteca mais comum para plotar as imagens\n",
        "import seaborn as sns\n",
        "import scipy.stats as ss\n",
        "\n",
        "# bibliotecas e modelos para o treinamento dos modelos\n",
        "from sklearn.model_selection import StratifiedKFold #função da biblioteca sklearn para dividir os sets de maneira estratificada\n",
        "from sklearn.model_selection import train_test_split #função da biblioteca sklearn para dividir os sets de maneira padrão\n",
        "from imblearn.over_sampling import RandomOverSampler, SMOTE #funções para over sampling (aumentar quantidade de ex da classe minoritária (lesão))\n",
        "import xgboost as xgb #um dos modelos de ML\n",
        "from sklearn.metrics import accuracy_score, confusion_matrix, cohen_kappa_score #funções que irão avaliar os modelos por meio de scores\n",
        "from sklearn.metrics import (ConfusionMatrixDisplay, f1_score, classification_report) #mais funções para avaliação do modelo\n",
        "from sklearn.tree import export_graphviz #função para imprimir a árvore de decisão\n",
        "import graphviz"
      ]
    },
    {
      "cell_type": "code",
      "execution_count": null,
      "metadata": {
        "id": "wFwVg72yf-9P"
      },
      "outputs": [],
      "source": [
        "play_df = pd.read_csv('/content/drive/My Drive/Datasets/PlayList.csv')\n",
        "#player_df = pd.read_csv('/content/drive/My Drive/Datasets/PlayerTrackData.csv')\n",
        "#este último dataset foi descartado pois ele pesa 3.7 GB e estoura a memória RAM gratuita do Colab e também seus dados não afetam o treinamento de nossos modelos\n",
        "injury_df = pd.read_csv('/content/drive/My Drive/Datasets/InjuryRecord.csv')"
      ]
    },
    {
      "cell_type": "code",
      "execution_count": null,
      "metadata": {
        "id": "0gRgKAu4gsnn"
      },
      "outputs": [],
      "source": [
        "# Criar um DataFrame com informações a nível de jogo.\n",
        "game_df = play_df[['GameID', 'StadiumType', 'FieldType', 'Weather', 'Temperature']].drop_duplicates().reset_index().drop(columns=['index'])"
      ]
    },
    {
      "cell_type": "code",
      "execution_count": null,
      "metadata": {
        "id": "kKrvm8oXhGzb"
      },
      "outputs": [],
      "source": [
        "def clean_weather(row):\n",
        "    cloudy = ['Cloudy 50% change of rain', 'Hazy', 'Cloudy.', 'Overcast', 'Mostly Cloudy',\n",
        "          'Cloudy, fog started developing in 2nd quarter', 'Partly Cloudy',\n",
        "          'Mostly cloudy', 'Rain Chance 40%',' Partly cloudy', 'Party Cloudy',\n",
        "          'Rain likely, temps in low 40s', 'Partly Clouidy', 'Cloudy, 50% change of rain','Mostly Coudy', '10% Chance of Rain',\n",
        "          'Cloudy, chance of rain', '30% Chance of Rain', 'Cloudy, light snow accumulating 1-3\"',\n",
        "          'cloudy', 'Coudy', 'Cloudy with periods of rain, thunder possible. Winds shifting to WNW, 10-20 mph.',\n",
        "         'Cloudy fog started developing in 2nd quarter', 'Cloudy light snow accumulating 1-3\"',\n",
        "         'Cloudywith periods of rain, thunder possible. Winds shifting to WNW, 10-20 mph.',\n",
        "         'Cloudy 50% change of rain', 'Cloudy and cold',\n",
        "       'Cloudy and Cool', 'Partly cloudy']\n",
        "\n",
        "    clear = ['Clear, Windy',' Clear to Cloudy', 'Clear, highs to upper 80s',\n",
        "             'Clear and clear','Partly sunny',\n",
        "             'Clear, Windy', 'Clear skies', 'Sunny', 'Partly Sunny', 'Mostly Sunny', 'Clear Skies',\n",
        "             'Sunny Skies', 'Partly clear', 'Fair', 'Sunny, highs to upper 80s', 'Sun & clouds', 'Mostly sunny','Sunny, Windy',\n",
        "             'Mostly Sunny Skies', 'Clear and Sunny', 'Clear and sunny','Clear to Partly Cloudy', 'Clear Skies',\n",
        "            'Clear and cold', 'Clear and warm', 'Clear and Cool', 'Sunny and cold', 'Sunny and warm', 'Sunny and clear']\n",
        "\n",
        "    rainy = ['Rainy', 'Scattered Showers', 'Showers', 'Cloudy Rain', 'Light Rain', 'Rain shower', 'Rain likely, temps in low 40s.', 'Cloudy, Rain']\n",
        "\n",
        "    snow = ['Heavy lake effect snow']\n",
        "\n",
        "    indoor = ['Controlled Climate', 'Indoors', 'N/A Indoor', 'N/A (Indoors)']\n",
        "\n",
        "    if row.Weather in cloudy:\n",
        "        return 'Cloudy'\n",
        "\n",
        "    if row.Weather in indoor:\n",
        "        return 'Indoor'\n",
        "\n",
        "    if row.Weather in clear:\n",
        "        return 'Clear'\n",
        "\n",
        "    if row.Weather in rainy:\n",
        "        return 'Rain'\n",
        "\n",
        "    if row.Weather in snow:\n",
        "        return 'Snow'\n",
        "\n",
        "    if row.Weather in ['Cloudy.', 'Heat Index 95', 'Cold']:\n",
        "        return np.nan\n",
        "\n",
        "    return row.Weather\n",
        "\n",
        "def clean_stadiumtype(row):\n",
        "    if row.StadiumType in ['Bowl', 'Heinz Field', 'Cloudy']:\n",
        "        return np.nan\n",
        "    else:\n",
        "        return row.StadiumType\n",
        "\n",
        "def clean_play_df(play_df):\n",
        "    play_df_cleaned = play_df.copy()\n",
        "\n",
        "    # Realiza uma limpeza na variável 'StadiumType'\n",
        "    play_df_cleaned['StadiumType'] = play_df_cleaned['StadiumType'].str.replace(r'Oudoor|Outdoors|Ourdoor|Outddors|Outdor|Outside', 'Outdoor')\n",
        "    play_df_cleaned['StadiumType'] = play_df_cleaned['StadiumType'].str.replace(r'Indoors|Indoor, Roof Closed|Indoor, Open Roof', 'Indoor')\n",
        "    play_df_cleaned['StadiumType'] = play_df_cleaned['StadiumType'].str.replace(r'Closed Dome|Domed, closed|Domed, Open|Domed, open|Dome, closed|Domed', 'Dome')\n",
        "    play_df_cleaned['StadiumType'] = play_df_cleaned['StadiumType'].str.replace(r'Retr. Roof-Closed|Outdoor Retr Roof-Open|Retr. Roof - Closed|Retr. Roof-Open|Retr. Roof - Open|Retr. Roof Closed', 'Retractable Roof')\n",
        "    play_df_cleaned['StadiumType'] = play_df_cleaned['StadiumType'].str.replace('Open', 'Outdoor')\n",
        "    play_df_cleaned['StadiumType'] = play_df_cleaned.apply(lambda row: clean_stadiumtype(row), axis=1)\n",
        "\n",
        "    # Realiza uma limpeza na variável 'Weather'\n",
        "    play_df_cleaned['Weather'] = play_df_cleaned.apply(lambda row: clean_weather(row), axis=1)\n",
        "\n",
        "    return play_df_cleaned"
      ]
    },
    {
      "cell_type": "code",
      "execution_count": null,
      "metadata": {
        "id": "T4h_x7ZqjFYO",
        "colab": {
          "base_uri": "https://localhost:8080/"
        },
        "outputId": "25d1d0f7-f3c3-4ee3-a07a-4601691a42a7"
      },
      "outputs": [
        {
          "output_type": "stream",
          "name": "stderr",
          "text": [
            "<ipython-input-6-e39945693612>:56: FutureWarning: The default value of regex will change from True to False in a future version.\n",
            "  play_df_cleaned['StadiumType'] = play_df_cleaned['StadiumType'].str.replace(r'Oudoor|Outdoors|Ourdoor|Outddors|Outdor|Outside', 'Outdoor')\n",
            "<ipython-input-6-e39945693612>:57: FutureWarning: The default value of regex will change from True to False in a future version.\n",
            "  play_df_cleaned['StadiumType'] = play_df_cleaned['StadiumType'].str.replace(r'Indoors|Indoor, Roof Closed|Indoor, Open Roof', 'Indoor')\n",
            "<ipython-input-6-e39945693612>:58: FutureWarning: The default value of regex will change from True to False in a future version.\n",
            "  play_df_cleaned['StadiumType'] = play_df_cleaned['StadiumType'].str.replace(r'Closed Dome|Domed, closed|Domed, Open|Domed, open|Dome, closed|Domed', 'Dome')\n",
            "<ipython-input-6-e39945693612>:59: FutureWarning: The default value of regex will change from True to False in a future version.\n",
            "  play_df_cleaned['StadiumType'] = play_df_cleaned['StadiumType'].str.replace(r'Retr. Roof-Closed|Outdoor Retr Roof-Open|Retr. Roof - Closed|Retr. Roof-Open|Retr. Roof - Open|Retr. Roof Closed', 'Retractable Roof')\n"
          ]
        }
      ],
      "source": [
        "#Cria o dataframe de jogadas com dados já limpos\n",
        "play_df_cleaned = clean_play_df(play_df)\n",
        "game_df_cleaned = play_df_cleaned[['GameID', 'StadiumType', 'FieldType', 'Weather', 'Temperature']].drop_duplicates().reset_index().drop(columns=['index'])"
      ]
    },
    {
      "cell_type": "code",
      "execution_count": null,
      "metadata": {
        "id": "XH5CDl5ljMYO"
      },
      "outputs": [],
      "source": [
        "# Começa as modificações no dataframe\n",
        "play_injury_df = injury_df.dropna(subset=['PlayKey']).set_index('PlayKey').join(play_df_cleaned.set_index('PlayKey'), how = 'outer', lsuffix='_left', rsuffix='_right')\n",
        "\n",
        "# Preenche as colunas vazias com zeros\n",
        "play_injury_df['DM_M1'] = play_injury_df['DM_M1'].fillna(0).astype(int)\n",
        "play_injury_df['DM_M7'] = play_injury_df['DM_M7'].fillna(0).astype(int)\n",
        "play_injury_df['DM_M28'] = play_injury_df['DM_M28'].fillna(0).astype(int)\n",
        "play_injury_df['DM_M42'] = play_injury_df['DM_M42'].fillna(0).astype(int)\n",
        "\n",
        "# Coloca um sinal de lesão nas colunas que ocorrem as lesões\n",
        "play_injury_df.DM_M1 = play_injury_df.DM_M1 - play_injury_df.DM_M7\n",
        "play_injury_df.DM_M7 = play_injury_df.DM_M7 - play_injury_df.DM_M28\n",
        "play_injury_df.DM_M28 = play_injury_df.DM_M28 - play_injury_df.DM_M42\n",
        "\n",
        "play_injury_df['Injury'] = play_injury_df['DM_M1'] + play_injury_df['DM_M7'] + play_injury_df['DM_M28']+ play_injury_df['DM_M42']\n",
        "\n",
        "# Dispensa as colunas duplicadas da variável 'Surface'\n",
        "play_injury_df = play_injury_df.drop(columns=['Surface'])\n",
        "\n",
        "# Cria variáveis dummy\n",
        "play_injury_df_dummies = pd.get_dummies(play_injury_df, columns = ['PlayType', 'PositionGroup'], dummy_na = True, drop_first = True)"
      ]
    },
    {
      "cell_type": "code",
      "execution_count": null,
      "metadata": {
        "id": "rlMcGrUA5GdL"
      },
      "outputs": [],
      "source": [
        "def visualize_play(play_df_cleaned):\n",
        "    plt.style.use('ggplot')\n",
        "    fig, ax = plt.subplots(1,1,figsize=(15,5))\n",
        "\n",
        "    plt.bar(play_df_cleaned.PlayType.value_counts().keys().values, play_df_cleaned.PlayType.value_counts().values)\n",
        "    plt.xticks(range(len(play_df_cleaned.PlayType.value_counts().keys().values)), play_df_cleaned.PlayType.value_counts().keys().values, rotation=20)\n",
        "    add_value_labels(ax, spacing=5)\n",
        "    plt.title('Play-Level Exploration: PlayType', fontsize=16)\n",
        "\n",
        "    plt.show()\n",
        "\n",
        "#plotando as situações de cada jogada"
      ]
    },
    {
      "cell_type": "code",
      "execution_count": null,
      "metadata": {
        "id": "7mHVA3PX50ZV",
        "colab": {
          "base_uri": "https://localhost:8080/"
        },
        "outputId": "ecebdb1e-20fd-440c-c9b9-78dc343f54ae"
      },
      "outputs": [
        {
          "output_type": "stream",
          "name": "stderr",
          "text": [
            "<ipython-input-6-e39945693612>:56: FutureWarning: The default value of regex will change from True to False in a future version.\n",
            "  play_df_cleaned['StadiumType'] = play_df_cleaned['StadiumType'].str.replace(r'Oudoor|Outdoors|Ourdoor|Outddors|Outdor|Outside', 'Outdoor')\n",
            "<ipython-input-6-e39945693612>:57: FutureWarning: The default value of regex will change from True to False in a future version.\n",
            "  play_df_cleaned['StadiumType'] = play_df_cleaned['StadiumType'].str.replace(r'Indoors|Indoor, Roof Closed|Indoor, Open Roof', 'Indoor')\n",
            "<ipython-input-6-e39945693612>:58: FutureWarning: The default value of regex will change from True to False in a future version.\n",
            "  play_df_cleaned['StadiumType'] = play_df_cleaned['StadiumType'].str.replace(r'Closed Dome|Domed, closed|Domed, Open|Domed, open|Dome, closed|Domed', 'Dome')\n",
            "<ipython-input-6-e39945693612>:59: FutureWarning: The default value of regex will change from True to False in a future version.\n",
            "  play_df_cleaned['StadiumType'] = play_df_cleaned['StadiumType'].str.replace(r'Retr. Roof-Closed|Outdoor Retr Roof-Open|Retr. Roof - Closed|Retr. Roof-Open|Retr. Roof - Open|Retr. Roof Closed', 'Retractable Roof')\n"
          ]
        }
      ],
      "source": [
        "#Criando o dataframe com os dados das jogadas já limpos\n",
        "play_df_cleaned = clean_play_df(play_df)\n",
        "game_df_cleaned = play_df_cleaned[['GameID', 'StadiumType', 'FieldType', 'Weather', 'Temperature']].drop_duplicates().reset_index().drop(columns=['index'])"
      ]
    },
    {
      "cell_type": "code",
      "execution_count": null,
      "metadata": {
        "id": "WUsolChIT3Tl"
      },
      "outputs": [],
      "source": [
        "# Juntou o conjunto de dados de jogos limpo com o conjunto de dados de lesões.\n",
        "game_injury_df = injury_df.set_index('GameID').join(game_df_cleaned.set_index('GameID'), how = 'outer')\n",
        "\n",
        "# Preenche os valores nulos nas colunas de lesões com zeros.\n",
        "game_injury_df['DM_M1'] = game_injury_df['DM_M1'].fillna(0).astype(int)\n",
        "game_injury_df['DM_M7'] = game_injury_df['DM_M7'].fillna(0).astype(int)\n",
        "game_injury_df['DM_M28'] = game_injury_df['DM_M28'].fillna(0).astype(int)\n",
        "game_injury_df['DM_M42'] = game_injury_df['DM_M42'].fillna(0).astype(int)\n",
        "\n",
        "game_injury_df.DM_M1 = game_injury_df.DM_M1 - game_injury_df.DM_M7\n",
        "game_injury_df.DM_M7 = game_injury_df.DM_M7 - game_injury_df.DM_M28\n",
        "game_injury_df.DM_M28 = game_injury_df.DM_M28 - game_injury_df.DM_M42\n",
        "\n",
        "# Introduz uma coluna com uma flag indicando uma lesão.\n",
        "game_injury_df['Injury'] = game_injury_df['DM_M1'] + game_injury_df['DM_M7'] + game_injury_df['DM_M28'] + game_injury_df['DM_M42']\n",
        "\n",
        "# Remove a coluna de superfície duplicada.\n",
        "game_injury_df = game_injury_df.drop(columns=['Surface'])\n",
        "\n",
        "# Remove as características do nível de jogada por enquanto.\n",
        "game_injury_df = game_injury_df.drop(columns=['PlayerKey', 'PlayKey'])\n",
        "\n",
        "# Cria variáveis dummy\n",
        "game_injury_df_dummies = pd.get_dummies(game_injury_df, dummy_na = True, drop_first = True).drop(columns=['FieldType_nan'])"
      ]
    },
    {
      "cell_type": "code",
      "execution_count": null,
      "metadata": {
        "id": "lFMhZJzY-z4Z"
      },
      "outputs": [],
      "source": [
        "# reinicia o índice\n",
        "features_df = play_injury_df.copy().reset_index()\n",
        "# descarta as colunas irrelevantes\n",
        "features_df = features_df.drop(columns=['PlayerKey_left','GameID_left','BodyPart', 'PlayKey', 'PlayerKey_right', 'GameID_right', 'DM_M1', 'DM_M7', 'DM_M28', 'DM_M42', 'RosterPosition'])\n",
        "# as transforma em váriáveis dummy\n",
        "features_df = pd.get_dummies(features_df, dummy_na = False, drop_first = True)"
      ]
    },
    {
      "cell_type": "code",
      "execution_count": null,
      "metadata": {
        "id": "yrtyXYWB_n1i"
      },
      "outputs": [],
      "source": [
        "#aqui que muda, haverá um segundo descarte de features, com base na filtragem de feature_importance menor que 0.01\n",
        "features_df = features_df.drop(columns=['PositionGroup_LB'])\n",
        "#features_df = features_df.drop(columns=['RosterPosition_Linebacker'])\n",
        "features_df = features_df.drop(columns=['PositionGroup_Missing Data'])\n",
        "features_df = features_df.drop(columns=['PositionGroup_QB'])\n",
        "features_df = features_df.drop(columns=['Position_WR'])\n",
        "features_df = features_df.drop(columns=['Position_RB'])\n",
        "features_df = features_df.drop(columns=['Position_TE'])\n",
        "features_df = features_df.drop(columns=['PositionGroup_RB'])\n",
        "features_df = features_df.drop(columns=['PositionGroup_SPEC'])\n",
        "features_df = features_df.drop(columns=['PositionGroup_TE'])\n",
        "features_df = features_df.drop(columns=['Position_S'])\n",
        "features_df = features_df.drop(columns=['Position_ILB'])\n",
        "features_df = features_df.drop(columns=['Position_QB'])\n",
        "features_df = features_df.drop(columns=['Position_P'])\n",
        "features_df = features_df.drop(columns=['Position_NT'])\n",
        "features_df = features_df.drop(columns=['Position_Missing Data'])\n",
        "features_df = features_df.drop(columns=['Position_LB'])\n",
        "features_df = features_df.drop(columns=['Position_K'])\n",
        "features_df = features_df.drop(columns=['Position_HB'])\n",
        "#features_df = features_df.drop(columns=['RosterPosition_Kicker'])\n",
        "features_df = features_df.drop(columns=['Position_DE'])\n",
        "features_df = features_df.drop(columns=['Position_DB'])\n",
        "features_df = features_df.drop(columns=['PlayType_Punt Not Returned'])\n",
        "features_df = features_df.drop(columns=['PlayType_Kickoff Returned'])\n",
        "features_df = features_df.drop(columns=['Weather_Snow'])\n",
        "features_df = features_df.drop(columns=['PositionGroup_WR'])\n",
        "features_df = features_df.drop(columns=['Position_FS'])\n"
      ]
    },
    {
      "cell_type": "code",
      "source": [
        "#separando o features_df em 2 datasets, um com injury igual a 0 e o outro com injury igual a 1_\n",
        "features_df0 = features_df[features_df['Injury'] < 1]\n",
        "features_df1 = features_df[features_df['Injury'] >= 1]"
      ],
      "metadata": {
        "id": "ipTMFrGGcn_K"
      },
      "execution_count": null,
      "outputs": []
    },
    {
      "cell_type": "code",
      "source": [
        "#agora, dividindo o features_df0 em 2 partes, um com 223 amostras para treino e outro com 266706 amostras para testes\n",
        "features_df0_treino = features_df0.iloc[:223, :]\n",
        "features_df0_teste = features_df0.iloc[223:, :]\n",
        "print(\"Shape of new dataframes - {} , {}\".format(features_df0_treino.shape, features_df0_teste.shape))"
      ],
      "metadata": {
        "id": "rLjsC-BWexor",
        "colab": {
          "base_uri": "https://localhost:8080/"
        },
        "outputId": "1f92b222-6992-4ae5-cd84-a7af3a664532"
      },
      "execution_count": null,
      "outputs": [
        {
          "output_type": "stream",
          "name": "stdout",
          "text": [
            "Shape of new dataframes - (223, 29) , (266706, 29)\n"
          ]
        }
      ]
    },
    {
      "cell_type": "code",
      "source": [
        "#juntando o dataset de injury = 1 com as 223 amostras de treino\n",
        "frames = [features_df1, features_df0_treino]\n",
        "new_treino_df = pd.concat(frames)\n",
        "new_treino_df.reset_index(inplace=True)\n",
        "new_treino_df = new_treino_df.drop(columns=['index'])"
      ],
      "metadata": {
        "id": "l-ZkDrskhbYa"
      },
      "execution_count": null,
      "outputs": []
    },
    {
      "cell_type": "code",
      "source": [
        "#juntando o dataset de injury = 1 com as 266706 amostras de teste\n",
        "frames2 = [features_df1, features_df0_teste]\n",
        "new_teste_df = pd.concat(frames2)\n",
        "new_teste_df.reset_index(inplace=True)\n",
        "new_teste_df = new_teste_df.drop(columns=['index'])"
      ],
      "metadata": {
        "id": "5Z0kQNQDouEj"
      },
      "execution_count": null,
      "outputs": []
    },
    {
      "cell_type": "code",
      "execution_count": null,
      "metadata": {
        "id": "gj_ksozQ_sMj"
      },
      "outputs": [],
      "source": [
        "#separa em features e targets (treino)\n",
        "y = new_treino_df['Injury']\n",
        "X = new_treino_df.drop(columns=['Injury'])"
      ]
    },
    {
      "cell_type": "code",
      "source": [
        "#separa em features e targets (teste)\n",
        "y_2 = new_teste_df['Injury']\n",
        "X_2 = new_teste_df.drop(columns=['Injury'])"
      ],
      "metadata": {
        "id": "_T7CtBKlwNB0"
      },
      "execution_count": null,
      "outputs": []
    },
    {
      "cell_type": "code",
      "execution_count": null,
      "metadata": {
        "id": "aVZ9-XlL_s32"
      },
      "outputs": [],
      "source": [
        "skf = StratifiedKFold(n_splits=2)\n",
        "#usa separação estratificada para treinar o conjunto de treino para distribuir igualmente os rótulos em todas as classes\n",
        "for train_index, train_index in skf.split(X, y):\n",
        "    X_train = X.values[train_index, :]skf = StratifiedKFold(n_splits=2)\n",
        "#usa separação estratificada para dividir os conjuntos de testes para distribuir igualmente os rótulos em todas as classes\n",
        "for test_index, test_index in skf.split(X_2, y_2):\n",
        "    X_teste = X_2.values[test_index, :]\n",
        "    y_teste = y_2[test_index]\n",
        "    y_train = y[train_index]"
      ]
    },
    {
      "cell_type": "code",
      "source": [
        "skf = StratifiedKFold(n_splits=2)\n",
        "#usa separação estratificada para dividir os conjuntos de testes para distribuir igualmente os rótulos em todas as classes\n",
        "for test_index, test_index in skf.split(X_2, y_2):\n",
        "    X_teste = X_2.values[test_index, :]\n",
        "    y_teste = y_2[test_index]"
      ],
      "metadata": {
        "id": "uA_Zf2VUyPnc"
      },
      "execution_count": null,
      "outputs": []
    },
    {
      "cell_type": "code",
      "execution_count": null,
      "metadata": {
        "id": "enU_x2Lx_vtx",
        "colab": {
          "base_uri": "https://localhost:8080/",
          "height": 35
        },
        "outputId": "a378eecb-066c-41f0-c9c2-0d9b7e163469"
      },
      "outputs": [
        {
          "output_type": "execute_result",
          "data": {
            "text/plain": [
              "'res = RandomOverSampler(random_state=0)\\nX_resampled, y_resampled = res.fit_resample(X_train, y_train)\\nX_teste, y_teste = res.fit_resample(X_test, y_test)'"
            ],
            "application/vnd.google.colaboratory.intrinsic+json": {
              "type": "string"
            }
          },
          "metadata": {},
          "execution_count": 19
        }
      ],
      "source": [
        "'''res = RandomOverSampler(random_state=0)\n",
        "X_resampled, y_resampled = res.fit_resample(X_train, y_train)\n",
        "X_teste, y_teste = res.fit_resample(X_test, y_test)'''\n",
        "#com um número ínfimo de lesões, é preciso rearranjar o dataset para a predição não resultar sempre em não lesão"
      ]
    },
    {
      "cell_type": "code",
      "source": [
        "from sklearn.ensemble import RandomForestClassifier\n",
        "forest = RandomForestClassifier(n_estimators=100, random_state=0)\n",
        "forest.fit(X_train, y_train)\n",
        "\n",
        "print(\"Accuracy on training set: {:.3f}\".format(forest.score(X_train, y_train)))\n",
        "print(\"Accuracy on test set: {:.3f}\".format(forest.score(X_teste, y_teste)))"
      ],
      "metadata": {
        "id": "_Oil2Pba0pLR",
        "colab": {
          "base_uri": "https://localhost:8080/"
        },
        "outputId": "100c910c-acc0-4ab8-f7d1-7cc549957928"
      },
      "execution_count": null,
      "outputs": [
        {
          "output_type": "stream",
          "name": "stdout",
          "text": [
            "Accuracy on training set: 1.000\n",
            "Accuracy on test set: 0.062\n"
          ]
        }
      ]
    },
    {
      "cell_type": "code",
      "source": [
        "from sklearn.ensemble import RandomForestClassifier\n",
        "forest = RandomForestClassifier(n_estimators=50, random_state=0)\n",
        "forest.fit(X_train, y_train)\n",
        "\n",
        "print(\"Accuracy on training set: {:.3f}\".format(forest.score(X_train, y_train)))\n",
        "print(\"Accuracy on test set: {:.3f}\".format(forest.score(X_teste, y_teste)))"
      ],
      "metadata": {
        "id": "ueNMP3cA16pE",
        "colab": {
          "base_uri": "https://localhost:8080/"
        },
        "outputId": "8e464d4c-5845-4862-f001-61c51e678ffb"
      },
      "execution_count": null,
      "outputs": [
        {
          "output_type": "stream",
          "name": "stdout",
          "text": [
            "Accuracy on training set: 1.000\n",
            "Accuracy on test set: 0.053\n"
          ]
        }
      ]
    },
    {
      "cell_type": "code",
      "source": [
        "from sklearn.ensemble import RandomForestClassifier\n",
        "forest = RandomForestClassifier(n_estimators=25, random_state=0)\n",
        "forest.fit(X_train, y_train)\n",
        "\n",
        "print(\"Accuracy on training set: {:.3f}\".format(forest.score(X_train, y_train)))\n",
        "print(\"Accuracy on test set: {:.3f}\".format(forest.score(X_teste, y_teste)))"
      ],
      "metadata": {
        "id": "ni2fL2EfAXjb",
        "colab": {
          "base_uri": "https://localhost:8080/"
        },
        "outputId": "fb61b616-c00f-4328-d0d9-9012944576b6"
      },
      "execution_count": null,
      "outputs": [
        {
          "output_type": "stream",
          "name": "stdout",
          "text": [
            "Accuracy on training set: 1.000\n",
            "Accuracy on test set: 0.056\n"
          ]
        }
      ]
    },
    {
      "cell_type": "code",
      "source": [
        "from sklearn.ensemble import RandomForestClassifier\n",
        "forest = RandomForestClassifier(n_estimators=10, random_state=0)\n",
        "forest.fit(X_train, y_train)\n",
        "\n",
        "print(\"Accuracy on training set: {:.3f}\".format(forest.score(X_train, y_train)))\n",
        "print(\"Accuracy on test set: {:.3f}\".format(forest.score(X_teste, y_teste)))"
      ],
      "metadata": {
        "id": "s2D4oiPCKTSq",
        "colab": {
          "base_uri": "https://localhost:8080/"
        },
        "outputId": "0550bac5-879f-45eb-c4f7-978e89820c9d"
      },
      "execution_count": null,
      "outputs": [
        {
          "output_type": "stream",
          "name": "stdout",
          "text": [
            "Accuracy on training set: 1.000\n",
            "Accuracy on test set: 0.077\n"
          ]
        }
      ]
    },
    {
      "cell_type": "code",
      "source": [
        "from sklearn.ensemble import RandomForestClassifier\n",
        "forest = RandomForestClassifier(n_estimators=5, random_state=0)\n",
        "forest.fit(X_train, y_train)\n",
        "\n",
        "print(\"Accuracy on training set: {:.3f}\".format(forest.score(X_train, y_train)))\n",
        "print(\"Accuracy on test set: {:.3f}\".format(forest.score(X_teste, y_teste)))"
      ],
      "metadata": {
        "id": "R00MwilwKWpe",
        "colab": {
          "base_uri": "https://localhost:8080/"
        },
        "outputId": "b5b075c6-0430-4970-ad19-fc3f4e79135c"
      },
      "execution_count": null,
      "outputs": [
        {
          "output_type": "stream",
          "name": "stdout",
          "text": [
            "Accuracy on training set: 1.000\n",
            "Accuracy on test set: 0.049\n"
          ]
        }
      ]
    },
    {
      "cell_type": "code",
      "source": [
        "from sklearn.ensemble import RandomForestClassifier\n",
        "forest = RandomForestClassifier(n_estimators=1, random_state=0)\n",
        "forest.fit(X_train, y_train)\n",
        "\n",
        "print(\"Accuracy on training set: {:.3f}\".format(forest.score(X_train, y_train)))\n",
        "print(\"Accuracy on test set: {:.3f}\".format(forest.score(X_teste, y_teste)))"
      ],
      "metadata": {
        "id": "r0CskcVxLBZb",
        "colab": {
          "base_uri": "https://localhost:8080/"
        },
        "outputId": "5edb849a-1b2d-46f9-d9ce-edeac67a7e1f"
      },
      "execution_count": null,
      "outputs": [
        {
          "output_type": "stream",
          "name": "stdout",
          "text": [
            "Accuracy on training set: 0.993\n",
            "Accuracy on test set: 0.242\n"
          ]
        }
      ]
    },
    {
      "cell_type": "code",
      "source": [
        "model = RandomForestClassifier()\n",
        "model.fit(X_train, y_train)\n",
        "y_pred = model.predict(X_teste)\n",
        "\n",
        "\n",
        "labels = [\"(Não Lesão)\", \"(Lesão)\"]\n",
        "cm = confusion_matrix(y_teste, y_pred)\n",
        "disp = ConfusionMatrixDisplay(confusion_matrix=cm, display_labels=labels)\n",
        "disp.plot();"
      ],
      "metadata": {
        "id": "HpMSN5rbQHpL",
        "colab": {
          "base_uri": "https://localhost:8080/",
          "height": 449
        },
        "outputId": "15f98866-d5c9-454d-f217-25db5833b88d"
      },
      "execution_count": null,
      "outputs": [
        {
          "output_type": "display_data",
          "data": {
            "text/plain": [
              "<Figure size 640x480 with 2 Axes>"
            ],
            "image/png": "[encoded data removed]"
          },
          "metadata": {}
        }
      ]
    },
    {
      "cell_type": "code",
      "source": [
        "import mglearn\n",
        "from sklearn import *\n",
        "\n",
        "forest = RandomForestClassifier(n_estimators=2, random_state=42)\n",
        "forest.fit(X_teste, y_teste)\n",
        "\n",
        "\n",
        "fig, axes = plt.subplots(2, 3, figsize=(20, 10))\n",
        "for i, (ax, tree) in enumerate(zip(axes.ravel(), forest.estimators_)):\n",
        "  ax.set_title(\"Tree {}\".format(i))\n",
        "  mglearn.plots.plot_tree_partition(X_teste, y_teste, tree, ax=ax)\n",
        "\n",
        "mglearn.plots.plot_2d_separator(forest, X_teste, fill=True, ax=axes[-1, -1], alpha=.4)\n",
        "axes[-1, -1].set_title(\"Random Forest\")\n",
        "mglearn.discrete_scatter(X_teste[:, 0], X_teste[:, 1], y_teste)"
      ],
      "metadata": {
        "id": "ffe6M8BwGMer",
        "colab": {
          "base_uri": "https://localhost:8080/",
          "height": 1000
        },
        "outputId": "9c77d8e3-70d5-4750-d512-fd1b3d271805"
      },
      "execution_count": null,
      "outputs": [
        {
          "output_type": "error",
          "ename": "ValueError",
          "evalue": "X has 2 features, but DecisionTreeClassifier is expecting 28 features as input.",
          "traceback": [
            "\u001b[0;31m---------------------------------------------------------------------------\u001b[0m",
            "\u001b[0;31mValueError\u001b[0m                                Traceback (most recent call last)",
            "\u001b[0;32m<ipython-input-107-a7c38b58fecc>\u001b[0m in \u001b[0;36m<cell line: 9>\u001b[0;34m()\u001b[0m\n\u001b[1;32m      9\u001b[0m \u001b[0;32mfor\u001b[0m \u001b[0mi\u001b[0m\u001b[0;34m,\u001b[0m \u001b[0;34m(\u001b[0m\u001b[0max\u001b[0m\u001b[0;34m,\u001b[0m \u001b[0mtree\u001b[0m\u001b[0;34m)\u001b[0m \u001b[0;32min\u001b[0m \u001b[0menumerate\u001b[0m\u001b[0;34m(\u001b[0m\u001b[0mzip\u001b[0m\u001b[0;34m(\u001b[0m\u001b[0maxes\u001b[0m\u001b[0;34m.\u001b[0m\u001b[0mravel\u001b[0m\u001b[0;34m(\u001b[0m\u001b[0;34m)\u001b[0m\u001b[0;34m,\u001b[0m \u001b[0mforest\u001b[0m\u001b[0;34m.\u001b[0m\u001b[0mestimators_\u001b[0m\u001b[0;34m)\u001b[0m\u001b[0;34m)\u001b[0m\u001b[0;34m:\u001b[0m\u001b[0;34m\u001b[0m\u001b[0;34m\u001b[0m\u001b[0m\n\u001b[1;32m     10\u001b[0m   \u001b[0max\u001b[0m\u001b[0;34m.\u001b[0m\u001b[0mset_title\u001b[0m\u001b[0;34m(\u001b[0m\u001b[0;34m\"Tree {}\"\u001b[0m\u001b[0;34m.\u001b[0m\u001b[0mformat\u001b[0m\u001b[0;34m(\u001b[0m\u001b[0mi\u001b[0m\u001b[0;34m)\u001b[0m\u001b[0;34m)\u001b[0m\u001b[0;34m\u001b[0m\u001b[0;34m\u001b[0m\u001b[0m\n\u001b[0;32m---> 11\u001b[0;31m   \u001b[0mmglearn\u001b[0m\u001b[0;34m.\u001b[0m\u001b[0mplots\u001b[0m\u001b[0;34m.\u001b[0m\u001b[0mplot_tree_partition\u001b[0m\u001b[0;34m(\u001b[0m\u001b[0mX_teste\u001b[0m\u001b[0;34m,\u001b[0m \u001b[0my_teste\u001b[0m\u001b[0;34m,\u001b[0m \u001b[0mtree\u001b[0m\u001b[0;34m,\u001b[0m \u001b[0max\u001b[0m\u001b[0;34m=\u001b[0m\u001b[0max\u001b[0m\u001b[0;34m)\u001b[0m\u001b[0;34m\u001b[0m\u001b[0;34m\u001b[0m\u001b[0m\n\u001b[0m\u001b[1;32m     12\u001b[0m \u001b[0;34m\u001b[0m\u001b[0m\n\u001b[1;32m     13\u001b[0m \u001b[0mmglearn\u001b[0m\u001b[0;34m.\u001b[0m\u001b[0mplots\u001b[0m\u001b[0;34m.\u001b[0m\u001b[0mplot_2d_separator\u001b[0m\u001b[0;34m(\u001b[0m\u001b[0mforest\u001b[0m\u001b[0;34m,\u001b[0m \u001b[0mX_teste\u001b[0m\u001b[0;34m,\u001b[0m \u001b[0mfill\u001b[0m\u001b[0;34m=\u001b[0m\u001b[0;32mTrue\u001b[0m\u001b[0;34m,\u001b[0m \u001b[0max\u001b[0m\u001b[0;34m=\u001b[0m\u001b[0maxes\u001b[0m\u001b[0;34m[\u001b[0m\u001b[0;34m-\u001b[0m\u001b[0;36m1\u001b[0m\u001b[0;34m,\u001b[0m \u001b[0;34m-\u001b[0m\u001b[0;36m1\u001b[0m\u001b[0;34m]\u001b[0m\u001b[0;34m,\u001b[0m \u001b[0malpha\u001b[0m\u001b[0;34m=\u001b[0m\u001b[0;36m.4\u001b[0m\u001b[0;34m)\u001b[0m\u001b[0;34m\u001b[0m\u001b[0;34m\u001b[0m\u001b[0m\n",
            "\u001b[0;32m/usr/local/lib/python3.10/dist-packages/mglearn/plot_interactive_tree.py\u001b[0m in \u001b[0;36mplot_tree_partition\u001b[0;34m(X, y, tree, ax)\u001b[0m\n\u001b[1;32m     73\u001b[0m     \u001b[0mX_grid\u001b[0m \u001b[0;34m=\u001b[0m \u001b[0mnp\u001b[0m\u001b[0;34m.\u001b[0m\u001b[0mc_\u001b[0m\u001b[0;34m[\u001b[0m\u001b[0mX1\u001b[0m\u001b[0;34m.\u001b[0m\u001b[0mravel\u001b[0m\u001b[0;34m(\u001b[0m\u001b[0;34m)\u001b[0m\u001b[0;34m,\u001b[0m \u001b[0mX2\u001b[0m\u001b[0;34m.\u001b[0m\u001b[0mravel\u001b[0m\u001b[0;34m(\u001b[0m\u001b[0;34m)\u001b[0m\u001b[0;34m]\u001b[0m\u001b[0;34m\u001b[0m\u001b[0;34m\u001b[0m\u001b[0m\n\u001b[1;32m     74\u001b[0m \u001b[0;34m\u001b[0m\u001b[0m\n\u001b[0;32m---> 75\u001b[0;31m     \u001b[0mZ\u001b[0m \u001b[0;34m=\u001b[0m \u001b[0mtree\u001b[0m\u001b[0;34m.\u001b[0m\u001b[0mpredict\u001b[0m\u001b[0;34m(\u001b[0m\u001b[0mX_grid\u001b[0m\u001b[0;34m)\u001b[0m\u001b[0;34m\u001b[0m\u001b[0;34m\u001b[0m\u001b[0m\n\u001b[0m\u001b[1;32m     76\u001b[0m     \u001b[0mZ\u001b[0m \u001b[0;34m=\u001b[0m \u001b[0mZ\u001b[0m\u001b[0;34m.\u001b[0m\u001b[0mreshape\u001b[0m\u001b[0;34m(\u001b[0m\u001b[0mX1\u001b[0m\u001b[0;34m.\u001b[0m\u001b[0mshape\u001b[0m\u001b[0;34m)\u001b[0m\u001b[0;34m\u001b[0m\u001b[0;34m\u001b[0m\u001b[0m\n\u001b[1;32m     77\u001b[0m     \u001b[0mfaces\u001b[0m \u001b[0;34m=\u001b[0m \u001b[0mtree\u001b[0m\u001b[0;34m.\u001b[0m\u001b[0mapply\u001b[0m\u001b[0;34m(\u001b[0m\u001b[0mX_grid\u001b[0m\u001b[0;34m)\u001b[0m\u001b[0;34m\u001b[0m\u001b[0;34m\u001b[0m\u001b[0m\n",
            "\u001b[0;32m/usr/local/lib/python3.10/dist-packages/sklearn/tree/_classes.py\u001b[0m in \u001b[0;36mpredict\u001b[0;34m(self, X, check_input)\u001b[0m\n\u001b[1;32m    424\u001b[0m         \"\"\"\n\u001b[1;32m    425\u001b[0m         \u001b[0mcheck_is_fitted\u001b[0m\u001b[0;34m(\u001b[0m\u001b[0mself\u001b[0m\u001b[0;34m)\u001b[0m\u001b[0;34m\u001b[0m\u001b[0;34m\u001b[0m\u001b[0m\n\u001b[0;32m--> 426\u001b[0;31m         \u001b[0mX\u001b[0m \u001b[0;34m=\u001b[0m \u001b[0mself\u001b[0m\u001b[0;34m.\u001b[0m\u001b[0m_validate_X_predict\u001b[0m\u001b[0;34m(\u001b[0m\u001b[0mX\u001b[0m\u001b[0;34m,\u001b[0m \u001b[0mcheck_input\u001b[0m\u001b[0;34m)\u001b[0m\u001b[0;34m\u001b[0m\u001b[0;34m\u001b[0m\u001b[0m\n\u001b[0m\u001b[1;32m    427\u001b[0m         \u001b[0mproba\u001b[0m \u001b[0;34m=\u001b[0m \u001b[0mself\u001b[0m\u001b[0;34m.\u001b[0m\u001b[0mtree_\u001b[0m\u001b[0;34m.\u001b[0m\u001b[0mpredict\u001b[0m\u001b[0;34m(\u001b[0m\u001b[0mX\u001b[0m\u001b[0;34m)\u001b[0m\u001b[0;34m\u001b[0m\u001b[0;34m\u001b[0m\u001b[0m\n\u001b[1;32m    428\u001b[0m         \u001b[0mn_samples\u001b[0m \u001b[0;34m=\u001b[0m \u001b[0mX\u001b[0m\u001b[0;34m.\u001b[0m\u001b[0mshape\u001b[0m\u001b[0;34m[\u001b[0m\u001b[0;36m0\u001b[0m\u001b[0;34m]\u001b[0m\u001b[0;34m\u001b[0m\u001b[0;34m\u001b[0m\u001b[0m\n",
            "\u001b[0;32m/usr/local/lib/python3.10/dist-packages/sklearn/tree/_classes.py\u001b[0m in \u001b[0;36m_validate_X_predict\u001b[0;34m(self, X, check_input)\u001b[0m\n\u001b[1;32m    390\u001b[0m         \u001b[0;34m\"\"\"Validate the training data on predict (probabilities).\"\"\"\u001b[0m\u001b[0;34m\u001b[0m\u001b[0;34m\u001b[0m\u001b[0m\n\u001b[1;32m    391\u001b[0m         \u001b[0;32mif\u001b[0m \u001b[0mcheck_input\u001b[0m\u001b[0;34m:\u001b[0m\u001b[0;34m\u001b[0m\u001b[0;34m\u001b[0m\u001b[0m\n\u001b[0;32m--> 392\u001b[0;31m             \u001b[0mX\u001b[0m \u001b[0;34m=\u001b[0m \u001b[0mself\u001b[0m\u001b[0;34m.\u001b[0m\u001b[0m_validate_data\u001b[0m\u001b[0;34m(\u001b[0m\u001b[0mX\u001b[0m\u001b[0;34m,\u001b[0m \u001b[0mdtype\u001b[0m\u001b[0;34m=\u001b[0m\u001b[0mDTYPE\u001b[0m\u001b[0;34m,\u001b[0m \u001b[0maccept_sparse\u001b[0m\u001b[0;34m=\u001b[0m\u001b[0;34m\"csr\"\u001b[0m\u001b[0;34m,\u001b[0m \u001b[0mreset\u001b[0m\u001b[0;34m=\u001b[0m\u001b[0;32mFalse\u001b[0m\u001b[0;34m)\u001b[0m\u001b[0;34m\u001b[0m\u001b[0;34m\u001b[0m\u001b[0m\n\u001b[0m\u001b[1;32m    393\u001b[0m             if issparse(X) and (\n\u001b[1;32m    394\u001b[0m                 \u001b[0mX\u001b[0m\u001b[0;34m.\u001b[0m\u001b[0mindices\u001b[0m\u001b[0;34m.\u001b[0m\u001b[0mdtype\u001b[0m \u001b[0;34m!=\u001b[0m \u001b[0mnp\u001b[0m\u001b[0;34m.\u001b[0m\u001b[0mintc\u001b[0m \u001b[0;32mor\u001b[0m \u001b[0mX\u001b[0m\u001b[0;34m.\u001b[0m\u001b[0mindptr\u001b[0m\u001b[0;34m.\u001b[0m\u001b[0mdtype\u001b[0m \u001b[0;34m!=\u001b[0m \u001b[0mnp\u001b[0m\u001b[0;34m.\u001b[0m\u001b[0mintc\u001b[0m\u001b[0;34m\u001b[0m\u001b[0;34m\u001b[0m\u001b[0m\n",
            "\u001b[0;32m/usr/local/lib/python3.10/dist-packages/sklearn/base.py\u001b[0m in \u001b[0;36m_validate_data\u001b[0;34m(self, X, y, reset, validate_separately, **check_params)\u001b[0m\n\u001b[1;32m    586\u001b[0m \u001b[0;34m\u001b[0m\u001b[0m\n\u001b[1;32m    587\u001b[0m         \u001b[0;32mif\u001b[0m \u001b[0;32mnot\u001b[0m \u001b[0mno_val_X\u001b[0m \u001b[0;32mand\u001b[0m \u001b[0mcheck_params\u001b[0m\u001b[0;34m.\u001b[0m\u001b[0mget\u001b[0m\u001b[0;34m(\u001b[0m\u001b[0;34m\"ensure_2d\"\u001b[0m\u001b[0;34m,\u001b[0m \u001b[0;32mTrue\u001b[0m\u001b[0;34m)\u001b[0m\u001b[0;34m:\u001b[0m\u001b[0;34m\u001b[0m\u001b[0;34m\u001b[0m\u001b[0m\n\u001b[0;32m--> 588\u001b[0;31m             \u001b[0mself\u001b[0m\u001b[0;34m.\u001b[0m\u001b[0m_check_n_features\u001b[0m\u001b[0;34m(\u001b[0m\u001b[0mX\u001b[0m\u001b[0;34m,\u001b[0m \u001b[0mreset\u001b[0m\u001b[0;34m=\u001b[0m\u001b[0mreset\u001b[0m\u001b[0;34m)\u001b[0m\u001b[0;34m\u001b[0m\u001b[0;34m\u001b[0m\u001b[0m\n\u001b[0m\u001b[1;32m    589\u001b[0m \u001b[0;34m\u001b[0m\u001b[0m\n\u001b[1;32m    590\u001b[0m         \u001b[0;32mreturn\u001b[0m \u001b[0mout\u001b[0m\u001b[0;34m\u001b[0m\u001b[0;34m\u001b[0m\u001b[0m\n",
            "\u001b[0;32m/usr/local/lib/python3.10/dist-packages/sklearn/base.py\u001b[0m in \u001b[0;36m_check_n_features\u001b[0;34m(self, X, reset)\u001b[0m\n\u001b[1;32m    387\u001b[0m \u001b[0;34m\u001b[0m\u001b[0m\n\u001b[1;32m    388\u001b[0m         \u001b[0;32mif\u001b[0m \u001b[0mn_features\u001b[0m \u001b[0;34m!=\u001b[0m \u001b[0mself\u001b[0m\u001b[0;34m.\u001b[0m\u001b[0mn_features_in_\u001b[0m\u001b[0;34m:\u001b[0m\u001b[0;34m\u001b[0m\u001b[0;34m\u001b[0m\u001b[0m\n\u001b[0;32m--> 389\u001b[0;31m             raise ValueError(\n\u001b[0m\u001b[1;32m    390\u001b[0m                 \u001b[0;34mf\"X has {n_features} features, but {self.__class__.__name__} \"\u001b[0m\u001b[0;34m\u001b[0m\u001b[0;34m\u001b[0m\u001b[0m\n\u001b[1;32m    391\u001b[0m                 \u001b[0;34mf\"is expecting {self.n_features_in_} features as input.\"\u001b[0m\u001b[0;34m\u001b[0m\u001b[0;34m\u001b[0m\u001b[0m\n",
            "\u001b[0;31mValueError\u001b[0m: X has 2 features, but DecisionTreeClassifier is expecting 28 features as input."
          ]
        },
        {
          "output_type": "display_data",
          "data": {
            "text/plain": [
              "<Figure size 2000x1000 with 6 Axes>"
            ],
            "image/png": "[encoded data removed]"
          },
          "metadata": {}
        }
      ]
    }
  ],
  "metadata": {
    "colab": {
      "provenance": [],
      "authorship_tag": "ABX9TyPdcNWAEaRIdqYvQvHbrIOL",
      "include_colab_link": true
    },
    "kernelspec": {
      "display_name": "Python 3",
      "name": "python3"
    },
    "language_info": {
      "name": "python"
    }
  },
  "nbformat": 4,
  "nbformat_minor": 0
}